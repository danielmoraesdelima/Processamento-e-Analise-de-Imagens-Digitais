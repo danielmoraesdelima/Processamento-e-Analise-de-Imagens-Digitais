{
  "nbformat": 4,
  "nbformat_minor": 0,
  "metadata": {
    "colab": {
      "name": "01_Intro_Google_Colab.ipynb",
      "provenance": [],
      "collapsed_sections": []
    },
    "kernelspec": {
      "name": "python3",
      "display_name": "Python 3"
    },
    "accelerator": "GPU"
  },
  "cells": [
    {
      "cell_type": "markdown",
      "metadata": {
        "id": "Nu6zjS6ve_nC"
      },
      "source": [
        "# **Processamento e Análise de Imagens Digitais no Google Colab**"
      ]
    },
    {
      "cell_type": "markdown",
      "metadata": {
        "id": "J-awkt0IjfHx"
      },
      "source": [
        "# **Trabalhando com arquivos**"
      ]
    },
    {
      "cell_type": "markdown",
      "metadata": {
        "id": "MXEElAhrfrUk"
      },
      "source": [
        "## Como fazer upload de arquivos?"
      ]
    },
    {
      "cell_type": "code",
      "metadata": {
        "id": "SUgacWwmf_OB"
      },
      "source": [
        "from google.colab import files\n",
        "\n",
        "uploaded = files.upload()\n",
        "\n",
        "for fn in uploaded.keys():\n",
        "  print('User uploaded file \"{name}\" with length {length} bytes'.format(\n",
        "      name=fn, length=len(uploaded[fn])))"
      ],
      "execution_count": null,
      "outputs": []
    },
    {
      "cell_type": "markdown",
      "metadata": {
        "id": "_0uf5HnKgUbp"
      },
      "source": [
        "## Como baixar os arquivos?"
      ]
    },
    {
      "cell_type": "code",
      "metadata": {
        "id": "MHQtElRwgc0H"
      },
      "source": [
        "from google.colab import files\n",
        "\n",
        "with open('example.txt', 'w') as f:\n",
        "  f.write('some content')\n",
        "\n",
        "files.download('example.txt')"
      ],
      "execution_count": null,
      "outputs": []
    },
    {
      "cell_type": "markdown",
      "metadata": {
        "id": "ZkjLK42WI6Tn"
      },
      "source": [
        "## Como executar comandos no console?"
      ]
    },
    {
      "cell_type": "code",
      "metadata": {
        "id": "tNSyoEdnJAoU"
      },
      "source": [
        "!mkdir aula_ppgia\n",
        "!cd aula_ppgia/\n",
        "!echo \"Olá Google Colab\" >> teste.txt\n",
        "!cat teste.txt"
      ],
      "execution_count": null,
      "outputs": []
    },
    {
      "cell_type": "markdown",
      "metadata": {
        "id": "mS-aGHp0hC6K"
      },
      "source": [
        "## Como acessar os arquivos do Google Drive?"
      ]
    },
    {
      "cell_type": "code",
      "metadata": {
        "id": "xEKPDHNmhQcg"
      },
      "source": [
        "from google.colab import drive\n",
        "drive.mount('/content/drive')"
      ],
      "execution_count": null,
      "outputs": []
    },
    {
      "cell_type": "code",
      "metadata": {
        "id": "aqmRCpgphvxz"
      },
      "source": [
        "with open('/content/drive/MyDrive/foo.txt', 'w') as f:\n",
        "  f.write('Hello Google Drive!')\n",
        "!cat /content/drive/My\\ Drive/foo.txt"
      ],
      "execution_count": null,
      "outputs": []
    },
    {
      "cell_type": "code",
      "metadata": {
        "id": "gbGMSKPgh2wt"
      },
      "source": [
        "drive.flush_and_unmount()\n",
        "print('All changes made in this colab session should now be visible in Drive.')"
      ],
      "execution_count": null,
      "outputs": []
    },
    {
      "cell_type": "markdown",
      "metadata": {
        "id": "-6EWSL3Mjo6y"
      },
      "source": [
        "# **OpenCV**"
      ]
    },
    {
      "cell_type": "markdown",
      "metadata": {
        "id": "YpNR6u5Hjy5T"
      },
      "source": [
        "## Como abrir e apresentar uma imagem?"
      ]
    },
    {
      "cell_type": "code",
      "metadata": {
        "id": "HFf6ET0PyZA7"
      },
      "source": [
        "from matplotlib import pyplot as plt\n",
        "import cv2\n",
        "\n",
        "img = cv2.imread('1626351092186.jpg')\n",
        "\n",
        "plt.imshow(img)\n",
        "plt.show()\n",
        "\n",
        "img_grayscale = cv2.cvtColor(img, cv2.COLOR_BGR2GRAY)\n",
        "#print(img_grayscale)\n",
        "plt.imshow(img_grayscale/255.0, cmap='gray')\n",
        "plt.show()\n",
        "\n",
        "img_rgb = cv2.cvtColor(img, cv2.COLOR_BGR2RGB)\n",
        "#print(img_rgb)\n",
        "plt.imshow(img_rgb)\n",
        "plt.show()\n"
      ],
      "execution_count": null,
      "outputs": []
    },
    {
      "cell_type": "markdown",
      "metadata": {
        "id": "XlQfI5QWnx6Y"
      },
      "source": [
        "## Como aplicar transformações geométricas nas imagens?"
      ]
    },
    {
      "cell_type": "markdown",
      "metadata": {
        "id": "KpeyV46Aprbs"
      },
      "source": [
        "### Escala"
      ]
    },
    {
      "cell_type": "code",
      "metadata": {
        "id": "5SxD1tBkps9i"
      },
      "source": [
        "plt.imshow(img_rgb)\n",
        "plt.show()\n",
        "\n",
        "print(img_rgb.shape)\n",
        "\n",
        "height, width = img_rgb.shape[:2]\n",
        "res = cv2.resize(img_rgb,(2*width, 2*height))\n",
        "plt.imshow(res)\n",
        "plt.show()"
      ],
      "execution_count": null,
      "outputs": []
    },
    {
      "cell_type": "markdown",
      "metadata": {
        "id": "YU4EhUdrrLFo"
      },
      "source": [
        "### Translação"
      ]
    },
    {
      "cell_type": "code",
      "metadata": {
        "id": "HdiGXNM2rNfN"
      },
      "source": [
        "import numpy as np\n",
        "\n",
        "rows,cols = img_rgb.shape[:2]\n",
        "\n",
        "\"\"\"\n",
        "| 1 0 tx | \n",
        "| 0 1 ty |\n",
        "\"\"\"\n",
        "\n",
        "M = np.float32([\n",
        "                [1, 0, 100],\n",
        "                [0, 1, 50]]\n",
        "               )\n",
        "\n",
        "res = cv2.warpAffine(img_rgb,M,(cols,rows))\n",
        "\n",
        "plt.imshow(res)\n",
        "plt.show()\n",
        "\n",
        "deslocamento_x = -70 #@param {type:\"slider\", min:-100, max:100, step:2}\n",
        "deslocamento_y = -86 #@param {type:\"slider\", min:-100, max:100, step:2}\n",
        "\n",
        "M = np.float32([\n",
        "                [1, 0, deslocamento_x],\n",
        "                [0, 1, deslocamento_y]]\n",
        "               )\n",
        "\n",
        "res = cv2.warpAffine(img_rgb,M,(cols,rows))\n",
        "\n",
        "plt.imshow(res)\n",
        "plt.show()"
      ],
      "execution_count": null,
      "outputs": []
    },
    {
      "cell_type": "markdown",
      "metadata": {
        "id": "mYJLyqt_sjwj"
      },
      "source": [
        "### Rotação"
      ]
    },
    {
      "cell_type": "code",
      "metadata": {
        "id": "jpg-jC1hslt3"
      },
      "source": [
        "rows,cols = img_rgb.shape[:2]\n",
        "\n",
        "\"\"\"\n",
        "| 1 0 tx |\n",
        "| 0 1 ty |\n",
        "\"\"\"\n",
        "\n",
        "angle = 178 #@param {type:\"slider\", min:0, max:360, step:2}\n",
        "\n",
        "M = cv2.getRotationMatrix2D((cols/2,rows/2),angle,1)\n",
        "res = cv2.warpAffine(img_rgb,M,(cols,rows))\n",
        "\n",
        "plt.imshow(res)\n",
        "plt.show()"
      ],
      "execution_count": null,
      "outputs": []
    },
    {
      "cell_type": "markdown",
      "metadata": {
        "id": "7mSKaRBUuUTa"
      },
      "source": [
        "## Como gravar o resultado de uma imagem?"
      ]
    },
    {
      "cell_type": "code",
      "metadata": {
        "id": "5N-9wyfEuab4"
      },
      "source": [
        "img_bgr = cv2.cvtColor(res, cv2.COLOR_RGB2BGR)\n",
        "cv2.imwrite('teste.png',img_bgr)"
      ],
      "execution_count": null,
      "outputs": []
    },
    {
      "cell_type": "markdown",
      "metadata": {
        "id": "XImXXlWEeyiV"
      },
      "source": [
        "# Como instalar bibliotecas? (GPU)"
      ]
    },
    {
      "cell_type": "code",
      "metadata": {
        "id": "pqDasmMDe2El"
      },
      "source": [
        "!pip3 install face_recognition"
      ],
      "execution_count": null,
      "outputs": []
    },
    {
      "cell_type": "code",
      "metadata": {
        "id": "1M43uq97fBdA"
      },
      "source": [
        "import face_recognition\n",
        "img_rgb = face_recognition.load_image_file(\"1626351092186.jpg\")\n",
        "face_locations = face_recognition.face_locations(image)\n",
        "print(face_locations)"
      ],
      "execution_count": null,
      "outputs": []
    },
    {
      "cell_type": "code",
      "metadata": {
        "id": "ppZqOSlDftBx"
      },
      "source": [
        "if len(face_locations) > 0:\n",
        "  (top, right, bottom, left) = face_locations[0]\n",
        "  cv2.rectangle(img_rgb, (left, top), (right, bottom), (0, 0, 255), 5)\n",
        "\n",
        "plt.imshow(img_rgb)\n",
        "plt.show()"
      ],
      "execution_count": null,
      "outputs": []
    }
  ]
}