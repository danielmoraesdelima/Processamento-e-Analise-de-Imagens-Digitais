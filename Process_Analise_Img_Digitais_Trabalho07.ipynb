{
  "nbformat": 4,
  "nbformat_minor": 0,
  "metadata": {
    "colab": {
      "name": "Process.-Analise-Img-Digitais-Trabalho07.ipynb",
      "provenance": [],
      "collapsed_sections": [
        "6KF_1yK0Nhsy"
      ]
    },
    "kernelspec": {
      "name": "python3",
      "display_name": "Python 3"
    },
    "language_info": {
      "name": "python"
    },
    "widgets": {
      "application/vnd.jupyter.widget-state+json": {
        "b3035501bc2340fa8c57fac6378f3e6a": {
          "model_module": "@jupyter-widgets/controls",
          "model_name": "ButtonModel",
          "model_module_version": "1.5.0",
          "state": {
            "_view_name": "ButtonView",
            "style": "IPY_MODEL_5180d75fdd554845af5d65bcf3af3fa5",
            "_dom_classes": [],
            "description": "Exibir Img CV2PLT",
            "_model_name": "ButtonModel",
            "button_style": "",
            "_view_module": "@jupyter-widgets/controls",
            "_model_module_version": "1.5.0",
            "tooltip": "",
            "_view_count": null,
            "disabled": false,
            "_view_module_version": "1.5.0",
            "layout": "IPY_MODEL_dbddd78e04d14924aa6a52791de3ebd8",
            "_model_module": "@jupyter-widgets/controls",
            "icon": ""
          }
        },
        "5180d75fdd554845af5d65bcf3af3fa5": {
          "model_module": "@jupyter-widgets/controls",
          "model_name": "ButtonStyleModel",
          "model_module_version": "1.5.0",
          "state": {
            "_view_name": "StyleView",
            "_model_name": "ButtonStyleModel",
            "_view_module": "@jupyter-widgets/base",
            "_model_module_version": "1.5.0",
            "_view_count": null,
            "button_color": null,
            "font_weight": "",
            "_view_module_version": "1.2.0",
            "_model_module": "@jupyter-widgets/controls"
          }
        },
        "dbddd78e04d14924aa6a52791de3ebd8": {
          "model_module": "@jupyter-widgets/base",
          "model_name": "LayoutModel",
          "model_module_version": "1.2.0",
          "state": {
            "_view_name": "LayoutView",
            "grid_template_rows": null,
            "right": null,
            "justify_content": null,
            "_view_module": "@jupyter-widgets/base",
            "overflow": null,
            "_model_module_version": "1.2.0",
            "_view_count": null,
            "flex_flow": null,
            "width": null,
            "min_width": null,
            "border": null,
            "align_items": null,
            "bottom": null,
            "_model_module": "@jupyter-widgets/base",
            "top": null,
            "grid_column": null,
            "overflow_y": null,
            "overflow_x": null,
            "grid_auto_flow": null,
            "grid_area": null,
            "grid_template_columns": null,
            "flex": null,
            "_model_name": "LayoutModel",
            "justify_items": null,
            "grid_row": null,
            "max_height": null,
            "align_content": null,
            "visibility": null,
            "align_self": null,
            "height": null,
            "min_height": null,
            "padding": null,
            "grid_auto_rows": null,
            "grid_gap": null,
            "max_width": null,
            "order": null,
            "_view_module_version": "1.2.0",
            "grid_template_areas": null,
            "object_position": null,
            "object_fit": null,
            "grid_auto_columns": null,
            "margin": null,
            "display": null,
            "left": null
          }
        },
        "c069510f11a548008f8d13376fa26b10": {
          "model_module": "@jupyter-widgets/output",
          "model_name": "OutputModel",
          "model_module_version": "1.0.0",
          "state": {
            "_view_name": "OutputView",
            "msg_id": "",
            "_dom_classes": [],
            "_model_name": "OutputModel",
            "outputs": [
              {
                "output_type": "stream",
                "name": "stdout",
                "text": [
                  "Exibindo Imagens:\n",
                  "Resolução:  (282, 412)\n"
                ]
              },
              {
                "output_type": "display_data",
                "data": {
                  "image/png": "iVBORw0KGgoAAAANSUhEUgAAAWMAAAD7CAYAAAC/gPV7AAAABHNCSVQICAgIfAhkiAAAAAlwSFlzAAALEgAACxIB0t1+/AAAADh0RVh0U29mdHdhcmUAbWF0cGxvdGxpYiB2ZXJzaW9uMy4yLjIsIGh0dHA6Ly9tYXRwbG90bGliLm9yZy+WH4yJAAAgAElEQVR4nO29a4xl13me+a5zv1RV39lsNq8SKVKkootDeSQ7iWXJShQnE/mHx4hjZJiBAP7JzDgzGcTyzI+ZAPMjBgZxPEBgDGE7EQLHlyhOJAiBMxrGgjFARrYEyxItUpYoiWJTZJPs7qqu27mv+VGnz3q+1XtVVfNSPOr+XqDRq07ty9prr73rfO96v/cLMUY5HA6H461F7a3ugMPhcDj8ZexwOBxLAX8ZOxwOxxLAX8YOh8OxBPCXscPhcCwB/GXscDgcS4DX9TIOIXwshPCNEMK3QgiffKM65XA4HLcawmvVGYcQ6pL+XNJHJV2Q9MeSfjbG+PU3rnsOh8Nxa6DxOvb9YUnfijF+W5JCCL8t6eOSii/jEEIMYfETPscXdPxx2O/PRDpOjuq9DvM3h8c87N+oYDqCvmN/01VzEjbtCUP5AivPZz7lue3JC59LMZau47UnBZXPbU9ePkd1nwrN6356o1C6FYcfmup5Yc9RfW/e2KSsw8yp19cPXoeZ04d8rlMvSvMlu+OHmjvsX/mMOGjl8fMzhRt8YUTp1RjjmdLvX8/L+Lyk5/HzBUn/xX47hCC12nsXUAutxef1WnfRns1mqR0nxWPVCgRLCIWBLLTtMWvFbfgzb0K9Xk/boO/T6XTRbtbSNgHnmKbNNYv4Iduu0Ui3KcZ0XJ6D4BjymtjXGvq0d9z083SCc8yG3Cr1D2PA8xFN9DvUUruW3bzxhPsXHsJZ9f2bRY7BrHKbfK6U7uVh5gXB697vjyfvU2mseI95n8bj8YH9I/b7Q8frqOF+2PmCe2bucXoW7fjZPtWbaX9ed2kMIv8I4TjNejoO51E+5yeT6n6V7pl5BkL1XOM5xqPUjtkt3iMH5seaVT+LHJ/BZPpc5UZzvJ6X8aEQQnhc0uNv9nkcDofjBxmv52X8gqS78POd888MYoxPSHpCkmr1EK99Iwuq55tKkur19Bet1eiY3/GvIP9S868gPydK3+Tst8Va5Tb7gdtN0b9ms5nOjS8PU/wFjRHfWhv2VpS/eVb/9S99G2Z7v2+zcYZvCTV888df/xirv/nzuKVvJPt9A+U9KH2bqpvjYgxAcXF+2HOX16lL35Lt/jf2eWkMpPK1su9sl8Y2FL7V5SjN9WYzRaZ2zG/s23fMIrrpuPoe1Mz33up2KHxL3i+qLd2/0nxj9DrB541avXr7Mudnz12gOQ5DDF3D61FT/LGkB0II94UQWpL+tqTPvo7jORwOxy2L1/zNOMY4CSH8t5L+o6S6pN+IMf7ZG9Yzh8PhuIXwujjjGON/kPQfDrt9UE3NOfUQ1MRvuKhVTchL+WJUU1Wo11NgwMWPUljNsIznq9fLQ8NFNLPgWKA2TKhpQuZqqibvL8HrK1ETpXDd9skGRaQmymEhw+T0KRefDG0zBZVUuF+SvU+1Ou5BA+cz4Sj3rl6g3G+xaz8aoQqlY5XpgVpxO7vIxHs5rvycY3sY+iKfN6TLStfNc+QLcqnfpQWq7FrRnnKhrrDYaagXc77Uj9KzkB+LKFFchiDBihwpxkksUH4ZlWgUSJN0/zhB84X5/eAZeA6Hw7EE8Jexw+FwLAHedGlbjunkWvjBUIBblFdOLQ1QTQ+UKARzBhy3tKqcw4ZDB69wGw0qth8zdN/nT2GtcXDIXdJFl9QUDOOvX+cFzTFmOHxwaFuiakpKh+nU3pcG7gHlz6VVcBu6V6sFGB7Wa/ZaD0MnlagFO9eqxzy/X+a47As3Az3AcWu1Es1wGB0taYl8n9FohN9U69gbjXQvuC+3Ia2UswR23uPzksIAmvYaNcpGS179LOXgvKrVqrcjCzODsonHrZtnJo2HrptHODd+x/dIlNMUDofD8QMFfxk7HA7HEuBoaYoo1Wd77/9Qrw7dZkiEiCETlEeGzwjZsOquiJVhk6JYTS00a0jLxkr+ZB/KopgQwpiNbZOCmT5uIMElPyaTV0z4XTg305tLnhAzk1JsQ65aDccNVJWksLek3iA1xL4y9LNqFqsi4XYzhJrD0aDyHLUJw0iulCOhApdTQ+i9d5IUrnOsDpP2fLiUZHt9Jp2dLAVVBerhHOlaR5MRPud9QQIHvlONuaovaapqVQIZK3tv0v6lFGirrNjHZ4TJQxiDGhRMLdBxMtYCeBaj4QPM+RSrVRM1zIt6A++aMbYHHRTQj3rk+winivbcnAmxVj0v6uKzW36nSP7N2OFwOJYC/jJ2OByOJYC/jB0Oh2MJcKSccQhJckKubkoZEribycRyLK0GZTvVGT2TETizQtZPo2DWYvqaf2D8QqpNa0pyqFLmFD9v5EZBbBckV9Y7ltlu1Z60ZvuZ/Ttckqcd1jCpCpNpwTTmOm4WvCakarOJ0X6lbUAIT2Bx2GzjHkMul+uvmF15GAvNRuO62XDd9lb6aDljI6EqZIxF8PShIMuLBelkDfK3Wp7xNa1eezCbUIplxqD63u9nHWpGgWsdeJYb5Ilxugkkc81WMgmrUe6aTZ0ZDa44hpz3BbMfrlvZjNtqw6Jx9q6gfC4EzCkOM849Hjtn7HA4HEsPfxk7HA7HEuDIM/AWESqkIDUTfsETuJaHe5QYIVSqM5uINEehVA/Dy5KEJgPDSBtlH+wra7yNjWkQw6QshAzVIaX1dK4OF2f0p+U1ccyyrjYa1UY+PEfpOsrSr4M9liVpdzdJ2GbTdNxTJ1OFGt7vzc2rODfNolOz0ebUzj1wU/sw5a14jlImJo85nVp5mbm33JB0BMbKZmkWvKLpUUNpWt2ObQPh82CQxtlm6lVL5njdpft3HeUUq2kVZhIG0Eys1GIkp5TuGSOkzIfbPLOk1zAmkMPVWsgwxJ4NGm2RAsI29cwsiecwyXmcLzdQNsu/GTscDscSwF/GDofDsQQ4WjWFwiIUmeArPhZEjQdq7ikcTchcbVwytcu5iyYpgWkhDCFlETNTEGbrNJoHG/RwhboY1h0yhCl5u5YLSVb7AFNlsW/mFLc6hNqgpPAomc7kfsu8pkZIq+jnzp5btBnmttvtRZvmN9/93nOL9nC0iw7mZZ5K0/7GCtiWSihdn8gH9Qcy5Ji0xWC7RRMm3KbxhHQJ5gQzuzLaZThO41MyteKzxGvlOB9aVWNoCn7OjaqpF2PIxKK4EbRPTlPwfYFMXApgeL/HfJbQqfEA5zDe3sxazG4sMoTDjDThjWVsLk576C0dDofD8abBX8YOh8OxBDhSmiIqajovLzNj3GLCp/TxeDTMDlCtfGCoQlG4WfE3h6FRCYaAhi555w2VgmSNZrWvbykkpP/u/qWBqj+nwQ8Nabg6ztCdyST7lRs6jH+vVdwj2QLnZjJJqBXC84wCOns2qSbuv++dizZNitj306fT9tNZmiMzhI3f+tY30gkymmI2ra4sXjfGTaSfqh+TEpUR6vb6GHK3cCxDkYFamnG2GvUFqBCWKoOBlrJkHlZljocwDeJ8IQ2TJyVVHWevu6Qd0ud1qo7QX6qUeJcmePZJw9Qy1ZEpF4bPef+mNdJioAw55nXuXW18lVM1wXhCw+QIx4qkVQ4oh+bfjB0Oh2MJ4C9jh8PhWAK8BTTF3td2itMZojGSHkWWiZEaXAU3FXSb2AbermMrvr8Gm2BBtUG5WrOhVZhPf4MVe03UWax4XPY9MH7BhYSFTicpEkqh9PX+yazqXB2m2eQAhvRQeFDQj/Cc49Rs2nG+//77F+3ja8cX7V43efySkun1uqmvs3TvV1ZWUk8LJZv2Pqj2WR4OU2hcGufS6j+PMx1VzztJgpWv2khAsCKbQ9xXUDLj0X6eB3zODlZE8D6R7iqF69fNwcjSV+QpWNqpemw5XwKUES14jofrCcRKGMUO5ie9jUnbUHU0Mp4xZR8bzoXX4+GyON5BG4QQfiOE8HII4Sl8djKE8PkQwjfn/5943T1xOByOWxiHoSn+paSPZZ99UtKTMcYHJD05/9nhcDgcrxEH0hQxxj8MIdybffxxSR+atz8l6QuSfuGgY4UQFhVgjZ8BLRuNeN6Gs4ze6LlgSg7RvhCrz61WVnrn2r6USWBld9+gwy7b4mDV1MR4QhvDFFa3TJiaJbgUSuyUqIaSFWhxxT8LL0vqj3qhFE7kijijUVxfXQxNUfk3s9bkyvfa2uqizbC82eBYpT6tb+ws2pcvXcYx09iMJlaVUzuEn4gtUVU9bsUq09nPZmzx+dQoiliPiR2pvt/BJBJxG3tu0knTqaX9FqcrXN9rCcNZQotKI17SaFydIBNMyS70j+19fD9KzwDPMSUNwyromFNMMKoVvGSkMk1lqmrXytTndf089JYWZ2OML87bL0k6+xqP43A4HA69AQt4McYYQiiy6iGExyU9Pm+/3tM5HA7HTYnX+jK+GEI4F2N8MYRwTtLLpQ1jjE9IekKSGo16vCYb4Nu7zlCgIC7PYUMoJvnvk0ue+oQDITGBSRuZsoJUAxNFalBy0KKQFUsC6IjptDr83U/dUGqXVvZLCo+Sj0b+O1PN2HhbpO2Hw3HlNo0OaAqsoDMZJE92efbZ7yzad995X2XfqYyp1aBcKHh1GL+LfE7Nqr87lMJ17k+FQYlKauTeFyUGAv2dwEOC/WNVGlOA2FS1rlYqSHbceD9yqmjRv8IcKSV95Aiozm6oRNIJddwnnq9QBYc8WDubt6X7b1BQLdGTw9jDklYCfTQZ2zGzFB4TnJBUdH3NoCJeK03xWUmPzduPSfrMazyOw+FwOHQ4adtvSfrPkh4MIVwIIXxC0j+R9NEQwjcl/cT8Z4fD4XC8RhxGTfGzhV995EZPFkJQcx7u1I0nQPWKY8gqb1AMT48H5unnvgCLbQorw7TKbBRUC3l/GcbQjrPRbKsKLQjNp6BF6PUwy60BVU07EIfxwij5UeQ0v12VZoJGCt+Gw4GqwH4MBtuLdrtNxQXDX3u/67hnl9avLNprx44t2qNhCuMnI1Y7qbaSZJ86mZIm4H6QdiiNIVHybuD2uzs7Zh9uVyu0WyVqCPfJKoJQmWKM+Zx1m2NNOqPTSYkzPN94PKz8/LBWkAFcSgPJXCN4TfDe1FGJhMWEbVUTPPd54go9avDMNOvV40nWwCQuGfkGzsHqMRlVMysoKFqt9B6IBYVHFTwd2uFwOJYA/jJ2OByOJcARV/qoqdnY+wpfWuXn6iirgUjWA6Fu/CiqbSJLxTtNqImQNZRWc7Of6WFgBf3VloNjrpQbC8xqmiHvb71eHT4X6Z1CiG0rcpTDzk6nQLewqGRIIfPubqqqwT6NxqA1cN35ovfa2tqi3UaI1+slb4rV1bQNhfv1q+l8d99196L93e8+u2jn4SV9Lkr2mJyHpXHjtTJBpZ7dS1NoE1SDfQaqq0tMYT1KZUQTlBjvyzSjE+y1sl8HK3Ru9PO9vhf8OgrjSTtVzgs+6y1TRDSbt7i+wK4Yh14oefBo0G8mForO8nqGmZqiRGvSLpZ+GwfBvxk7HA7HEsBfxg6Hw7EE8Jexw+FwLAGOlDOWqgsiTwq+t3XIqiRjiZr56VbLW6igaoJXK8l0SpluOUrZWVNU76Vkqmx7wmPa81GOZbtbztpb9Ml4z0J+wwy1UK7QPJ4U/HtnB3PRvNRS1tZg1xr3kCM9eQJ+xuCMKcUaQGJXg+/tzk6S1Z0+fXrRfvnll7IeHOxVzHOX5gt5YrYbGQ9tS06VfIGr1wWCWRZIn3PdIogZofb7lSldVcgG47NkKODCdfMZLckupawCdaPwvBrDr2qPcsvh5vw/2vyFybKsfj+wOaOcjWZQzPDLZWr7GG8t9rkBn2P/ZuxwOBxLAH8ZOxwOxxLgSGmKWZxpOM+kKmeGmZq52e+qJSftDkOxFNeVpG1T45lc7UGc969ETRiDkYJciPIiytwaKD9EeZIkEwIxO499bBZKwoyG1VKzGo2TQi5JQhkfI6FiuMjwvjrspJkKaSIjw8tkdWfPJgfWE8dT0RhKmgwlgLJLmxupH2fOJGri3e9+96L9h3+YfI4laTRimMzfUMIGOVqzOuuOc2SM625mZj2MYHO55jXMjG8xTI6Mzy69ulOT5lPXH5e+4ewT/J6NmRCPi77yfIVrkOxcpVlWHeNJM6PRpDrrbga/7DrGoJ5RQLUCpTCZ8tmHcRaeAd4LjgFvGGWKuQHUYcpxleSnVfBvxg6Hw7EE8Jexw+FwLAGOXE0R5kY5xsvXKAywshttONSoUxGRPp/CKIV/XoxCoFApupxpZSkSrq6XPFSZ3VNjiIZ+N0BHMHyaZQ4vdawsm3IvtepVWzM2LE9lxqBc0sp43dZ4fdXhYsn31mQOYvvJmCGv/Q5w/vydi3a/31+0V1HtuYWMMxo1NY6nfvS6yBwkjZUZOA3Hica5ePGVRXswSAqFK1c2Fu1mvZoeCyqEo5kyJooZddV+yONRtcJgYgy1MG4M1yPpMUtZsDwWVQWk8Ky/d5pHlr5I19c0/tz2GeW9abfbldtNDYVXPbalTL52w15fiTAZIvuTvsoNqDFYFqpBGhNtS9PZZ4/vlEbBT/xG4N+MHQ6HYwngL2OHw+FYAhytUVBIoRYTCKwRDj1es7BgUk01ECV/Wq7MM5Tm5ww7WEJJKtMZ1t+2OlwvVa3lqnKu3mBEakpUlUI5JJy0W0ltYKokY2zyVX1b1ohK+kJ5K1UL3hnO0td1NkvjyQQOSbr99qSm6EEpwXvDlWyGjuxrDSH2bWduX7T7/VRxWpJ2dpPf8J3nU78uXbq0aH/lK3+a+j5N25RKUnFsd+HpnKNU2qmOpIhQSEox5w5cva82E6o4e/W5D7HiX0qIyquul45r6AjOtWZ1JWbjYcwkk+xZsooWGPTwqcGxSFlMcc84pxqFa8ifY94PvqkCaDjzXI/3py/8m7HD4XAsAfxl7HA4HEuAI/YzDouv/dPCavwUovHhMPNPQGhdWuVk2MQ2Qx3uOy0khuwXuvF8JlGkzpVvhmjVx2K5oWYzT/ooeMGWkmVUHdZxPJtNhJRTG86WvJy77ZRssYpwn2G5DY3TfR3A55heCg8//LA5d6tAO5jxaRUqG9MnGckP3W5SZeT2AFG1yt/ZecgxhM9IqE6O2a9K8WGSAKh6aLVYEokBcHX4W5rzkr2XvGdUOlgVQzUFUfLzzq+n5EdSoi/YpxFVE+gfE36s50t2D6gqidU0RbG6Oo7ZNF7k1VXQ834ZFM53EPybscPhcCwB/GXscDgcS4Aj9qaIizCj1USZGoQFDawqT8Y2LGC+eQmlRI9iaIQ292WShyR1uyl0ZMjFkI2JGzZXvfpzJlTkq+CsjD0cFco8MUlFpG3oq1Ct2JhlVp4sP8SSPm3QFAyYbcmZ1NftraQkGEKRcuedKbHjnQ8+ZM5N/4VGo5pyareZLANKB5dBKmNjIyVt1LOK4fQBGY3SPju7W4v21c1UpTogtcBYphYUNjm4z6yQ8GBUAVAN8Tlpoj2ZpW1KiRN7x2X1c/a9VFmc84VUG9UU6dx5ggOfs5Kyw1ZSTve4pL7g542MzpvgHIY6K9h81gulkowFKrfBuXILTfP88XkfF6pcH4ADtwwh3BVC+IMQwtdDCH8WQvj5+ecnQwifDyF8c/7/iYOO5XA4HI5qHOa1PZH0D2OMD0v6gKS/H0J4WNInJT0ZY3xA0pPznx0Oh8PxGnAgTRFjfFHSi/P2ZgjhaUnnJX1c0ofmm31K0hck/cJ+xwohqDb3UODKZxynMLxUVeHa/tdQCmmI8QiKhBotCrkCX101utmyK6WhVghP6RFQsOBk/1hJmfRFvjI7GlPojtB2RhUKE06qk0GosmDSRsiy+uOMVpukAUDJjOBnICSQIKxmNeMf+7EfW7Tvv//ti3a/a6/19OmTi3avD/E9K7vQxhL7mntsqipXeyFINjmH9phTKBoaLVA6UPVcV+3hWj8QCreyUJr3n1SW8fpQtRLHVHuGqsOqGPAsZXaaMTD5KD1ndn4jeWjGTzknUr9X1xKFFzIrVvp18B6wCrtNlKqmDUp0UC171kseFtyqzeQhJmoUaCIeh5SF9qEcovFkeW1LcTe0VwjhXknvk/RFSWfnL2pJeknS2cJuDofD4TgAh17ACyGsSPq3kv5BjPFqtmgQQwiVX2lDCI9Lely6MTLb4XA4biUc6mUcQmhq70X8mzHG35t/fDGEcC7G+GII4Zykl6v2jTE+IekJSWq32/GaKoHhxXCQvAJKouwcJaWEWd1Fjrit+lGdcEKqIKc+SqoLnptCde5f2pc0Q74qXVRNFFbOix4GBS+LSebzwYSJDtQU1mqRY5iuaThI1MtDD71z0X7PI+9atFdXkx1mt20tLXvwqmi1U0hZoqWsfScSKgoWn6SiJGkIWmwbRUx5/3msGc5tEhCYEIDj5/eSoS6Te0zy0bR6TpbsSQnrkWGLvY5wrZyfpvwIgvqpKRYKvxPsy37ntGKcVidXNVvVtGLpWSopFfKxLY0Jz82+c3v6z5RUIKXKLpKlrMx84ztsH5VNjsOoKYKkX5f0dIzxn+JXn5X02Lz9mKTPHPqsDofD4TA4zDfjH5X0dyV9LYTwlfln/7OkfyLpd0MIn5D0nKSfeXO66HA4HDc/DqOm+H+VVwZN+Mgb2x2Hw+G4NXHkZZeu8S7kfsjDkcfJ/UNL2UuHyWpiJhmPO5kkTo3ZdLsDa0hi+CzK2fBnarSb9jelYlrMbqN0K/GjlLzt9f1gDrher+ZXLRdZzWvlhi71Fnlbcmw0wAHXB9lSayUZCD3yyCOV52Cf6FksSf2VZOpTQ3Zcw4xVtXnLrMBxck7lvOIO1ihqkGatra2lPvaTfGuCPtlq26m9ubm5aI+yzLMST1xaEzEliqbV2X+836xMvbtrfbhZXcuYZWFOsh+TafUYlnx983lET2n7u2qpIZ93Y/7FNRMcZb9MR15HybDIVDLHeJSen8Nw9vshl1XuB5c3OBwOxxLAX8YOh8OxBDhymuLaV30jBaFUCWFjaJTlZaXKsyaTZkLZDaVDkCp16R2bQoqdXSsRMhIetFlRmH7L7AfpD3vMdH00IpJsSabptLqsDuVpzIQy/s7wMKYBTa1ub31p/06Hcr10rK2tdKz733ZfOh99aEE/BGa6ZRWuQ6M69KexTSmktOE6qvXimHnIyjB04+r6oj0cVN+nKaVY6EdN1ZRYHkjTlKdRkBrW69WPIq9pPKZEclLZzq+10azOLCtV97alrqqlgvuZAUVVX98U5kKjgg90SeZ2ndc3UKIlSyWx9vMnrjof9829okuU6n7Sv/3g34wdDodjCeAvY4fD4VgCHClNEWPUbL4KP8EKcDQZOQg7glVT5B7D18AQn4YtoVadWVSHEQ6YCc1gNNNs2L9TDezTROg+ZBmYSM/d6vI1pfJGtax8DU1rWMmZXrzWTxer4wH9iLXqbTKPX1I0owlW5HHdDezTAR1x5kyyJWl00D+soEeY84yjPfcY0zBEZP/NkImGXajwYBmkGaokj0DJzIINpevNdLAVmBbVlVxg6SM8RLVnzh2buYZQv7Miok2v3AaUGQirm5gjpKUo3NlFVevxMM27Xi/RQY2eNWGi0qLR5HOWxnB7m9cHeqyQCVgy55Ek0YyKvt+jNKeYudYqZK3y2Rjv4w9sMkzxzA0L5dQI0gmlLF5eX17yqaTe4b0cZ/vsB/9m7HA4HEsAfxk7HA7HEuCIq0PTSxZUgVkdhzD9OuF29UptaTWYaoVSCZhSCHNdOIRz7yBctEJzlCtinxDCTAr9uC7BJVKZwZXldI5Wq9rsZTZFeIlV+jGrHE8tVcDQP+LcpHF2EWo2UZ5nZSUlS/T7qU1apIV+M9ll79wMexmSpm0Cw2eUq5og+WRQUEMwVL/uZ8yRtdVji3a7naivy5eT4mI0qjaEKa3q5z9znJm/YD2yqxMQIigctaupthx8HlgdnM8Pnw0mH5USHrhvrnSIUI7wuByfXj/RKn20uT2pEyJP+ijSCwXFRuldcRjzohylZJ7dnfR+oOLiIPg3Y4fD4VgC+MvY4XA4lgBHq6ZQCjGpbgimOjCF5ja8LFETRlhd8PW1qE4siaoW2EvSCKV3GK4zYWWlj1CH/cNx6oUV6pymCLw1VB/E6sq1JjFkBD/VBsNIVvjNqwjDvxdh7+bmFj5PY7DWTcoWhvSdNpUDrPzbqvx870IYCvL7QbX/ggmZ0VcmrjDMzf2MqYxRO/1u82ryl7jn7nsW7VdeeWXR5oo6w+KW8fvNKa7qKtKkkJjsRIWI9SVJ/b5y+dKiTTVFjv28HKrOUfIUNr4RBZ9pyVb6NgkdhYrSTIgyldYLaqTcz/g6NcccTAqbFJQV5jqobMG15ucjeKwR+s5koD6ek9zvJod/M3Y4HI4lgL+MHQ6HYwlwtGqKIDXmagqGNzPDMjDH33avRFMYOsKsalf7EwQoATavpjB8POZKchbeFUKzViHEs6vY1Yka9DnIV6VZkokgI8Pwm0kj9Tr7mo4zA+2TB6+zWE1htFop3KOS4Nwddy7aFLz3YafJqogN0BTNhi271DFJEbxPaZs447hV+wW0UfF4sANlRc2Gsk1SSFBjNE0VYSQEoE8NJg/xc3pqNMtqivX1pMzodnH/OqAsCvvyrjF85uq9uvbO7uxcXbSppjgMfWGeUZM0VVYYFCkMUC8lT4fSOUhf5NRjySp1vz5WnZtoFqxb88rgTPjiXK81qj09DoJ/M3Y4HI4lgL+MHQ6HYwlwxBaaQWEerk4Lloi2GnH5Kz6jtzZCvGa9euV1B2J2hrZjhLwz9KPdsZaWTYTxTSZVoLJBv5eSBphwQotDUiSdTjmcofqgmFxQGJ9GqBboM/EiD1Ot/WQazwEqPzOsu/+hdyza/WMp0cOoXJBY0m5XUxGSDSlX1lYrP6c9KX1NZhOGjjgf/EquXr0qgiv+G9pYtAejNAbH1o6n/TfS/hy2Y8fTdfMe5wU8JphjjQYVH0m9QbuNkn3kZEIFEixJMQ12Mxf7MNkAACAASURBVLtW+ppMdqsTKXoYq1qB5mOyytZWOk4+j1qN6krM5hkf41lqgk5gdW9qhfD5eGSpgogq5dbGFH2nR0rBy4JjThqlZNcqWZpqTFqszn0O/33Xvxk7HA7HEsBfxg6Hw7EEOFKaolarLcJVaLKzShgMBfLEhOpqFMbJX1ydRYjGVVucz6yIFwTrez+zCGa1iN/4C4jqBhbTTH0dDJC7n/1ZjEgyMUUwC0kjpbEpJcfM9jE04HZDWDW+7W1vX7TPn09qipMnT1X3AyFoFwU+6Ucg2VCcFFK9UGkidlDFAX4U3L7Rqq7WIFkr1mY7nY+2m/XNRE3ccccdi/Zzzz23aDNcZ0JMTlOUqk4Qg2Gig2zIXK3wGaOQLhNtjoEy2jtfuqYBqtcMB7S0TNtPMS9o42oLeVYnZEi2iKzdB2MLtcFwlPrERA0V1An9jlXimKQRPFvDcbq+Eu1jaDBadjKZp1VNF0p2rvdRZNcmBr2BFpohhE4I4Y9CCH8aQvizEMI/nn9+XwjhiyGEb4UQfiewJo/D4XA4bgiHoSmGkj4cY3yPpPdK+lgI4QOSfknSL8cY75d0RdIn3rxuOhwOx82NA2mKuBdjXcuMaM7/RUkflvR35p9/StL/JulX9z9aUJirD8wqf7s6DK/XymEBVzwZqlAVYJIREAKZUBrtEUKbzc200i1JAaruLvLNZ1AMGAtH+C20GQqPClaeE3utpnJAIVeeK/iTSXVCjMnrx9hsbqVkl3wfgn1/9NH3L9pra0k50oHyhEqJFsJnejf0MpqC4WK9QKuUimCW/EeoIuBYSrYIrfVISedmdY6HH35Xug4kwfz5nz+Do8JWsmUTDrgIz75wzBn6k46wypY0P6l6oHKnXrMBKpUSiKS1u5PoD0tZQM2E5B/SfFQa5d4Nu6BV2HeG/rxu3gvSALPCvc+zlUagAdjfJiviTKrVFHYMq+152e9GlkjC/u6CxjREa3iDkz5CCPUQwlckvSzp85KelbQek5PPBUnnD31Wh8PhcBgc6mUcY5zGGN8r6U5JPyzpocOeIITweAjhSyGEL02mZQckh8PhuJVxQ9K2GOO6pD+Q9EFJx0Mq5XCnpBcK+zwRY3w0xvhoo37EOSYOh8PxA4ID344hhDOSxjHG9RBCV9JHtbd49weSflrSb0t6TNJnDnfKPUblMFKsvDp0LnWr2qeN6sTNQlmVEj9KXG80Qk6PHGc639ZW4ssodaEXL8smsRu5bKaUoTgCX0oO2PCuaNPXt1R+Jt+HPOBtt922aB8/jurJ4E4p3WObPHF/JVVMbmSmSMZDt1B5mONjrqPgX02ZFKVfks3GpNkL+Uv2lzzv2bOpEvbzzz+/aG9cvbJoR9kI0HCLOPfp06fR97Q97zd5YiufgwSwxmtNGYyS1ESV66mYCUiJVzo5fXljYKYcTZRgalTL1kDoxYx9Wp3qNZvZhOsevD54BY+qJWuSnQvsVwdVv1FFTDswVSIvbX2jIQHF8WP2zPDc4ynHobpC9kE4zFfVc5I+FfbyeGuSfjfG+LkQwtcl/XYI4X+X9CeSfv3QZ3U4HA6HwWHUFF+V9L6Kz7+tPf7Y4XA4HK8TR+xnXFNrHjbRW7dEGzAs29sHlWchVxkiXG+ijBJDdIYeDGFr9Wr6wmQDyYaXJtSZpf1bTcrREDKDOmEGHs/XbGR+xvX0O5rkRGb0NGhIQmkbZEGmrFRCrrjh/hNkRZ04lgxzetRGYdyGyK6qgYJYxb5dlAbKr9WYscRqj9lS6C76TtP/GHOl3bFyr4h9eF9JR3C+TEBNUFb3vvf90KJNKeQz3/iqOR8zNgleRx8ZijSXIT0wHI6xfRrPFVTkzm+smReRUq60DekkStii8bgmjZaOk8sGSz7cJosUczs2QAnAyIgZhoMRn5kyfUgJKKur1403Nc6NS+p2aJaUPt/dRebtxI4tPbbDjHJZPH+HoEQX5z30lg6Hw+F40+AvY4fD4VgCHG116DjTeLIXmrFk0HRWbVoTZD8fGZOdFOIxy2w6rQ6nbJkm0gYpHDIGH5kmmhln9NMdjZChw/A7VK/UNpuoFosQ2a7GSnGc9t+4mjx3Wwi5Gy2UhEE/rqLKMcNLhnGkUfauA1QD+vvgO5Ok3GRHIpTug4Kg4sLSQdUlsCQp4D5Z/yJ6GFNBQeVH6rcty8Vw1q5oc7tmwdiG25CeIZ2wupoUF7zW4chmNz7zTMrU41ztdEhNlLyt0zh3u2mcu9iX25Cak6SdsIufqtVIxuDKlE1i+aHqqtExo5VYsqukYBpzriGkpxJjApoixrT9cGivgfO4ZB4WhWMVngeeuwXKot5INAzpSUmKfEfguut1fsctG3Ll8G/GDofDsQTwl7HD4XAsAY6UppjNZtrd3QvhmPzA1fWZEf3br/gzEwpQpJ22YXharhwLD2OcO9RSONPNS6xwlbjBkBvXgZXvYvVqoIskg2FWLoer9rln7DXwmmqgDThOpTY9YiUpQJ3SQvhGwxz6PTObsttO12HGAPRAE9t3WlapUjIHmrGeEJQAs1kaq14vUQWDXYbkCY26VW9MpltoQ50Caon+wsNhosRonMTxp+/wvfck32dJ2rqawtsLL6RE1XGbiURpfHZ3SMFVPycp+dWqLPLyXSdPnUz7kA4yntVpPA1VA6UQK16Twmtk6gmennOYJlpM7hgO09hQQUGKigZO/X6u3oDHM85H2sHQBqROColSRnWEfVuZl3IzQkERQZegGvluodRVFfybscPhcCwB/GXscDgcS4Cjde4JqbwQQweGC806vXttKG2E6gjdWf3X+gBX59OXqk5396nkaqpWz6pXS0vHpccrQ02T9JH5NZhySQifA8IylgyqY1G7U/CbNeFhVv6H/r/0h9jaYWkhqBDgyWEMoNAPUxEYK+jTPOnD+NUy8SZdR4wM3dM9HuzSuwGJGvTZzSgnUlP0pt4t0BxUStgySPDCxnjec8+9Zv9Tp5IHxVNPPbVof+1rX8NxWSYojWe/n2gYUhaGQqinc9cz+qnk8VvyMjEqBJyDx+VcNdSALG1gyhpBscFzUKlCOqiBZKUBqIz8OaHKYxOlslj1vd9LSTG9Ds+HccO8s2qRdK7cr8aUX4vV9Ecjm+v7wb8ZOxwOxxLAX8YOh8OxBDhig+Goa2uVRgkAu7whSxdlFpqlEjQMI21iQ3UobVaDcUyKuvNyMmaVWVR11Cu3MSVycA6G0h30e5SpKcwKMhQDDIEG8JCgCoWhN7Gxsb5or2/YslK0+fzoR//aok0VyfpW2ufYibRKb+4FKIQZjhkx/rMs+WDAysFgFLa3k+phsJtCyrxy9zWUkgxyG8PVlWQzSU+JnRkqNOO6Z9M05qRImABC5Q/Hct6DRevd734P+pX6ePHiRRw3JXdwblvryrQv6ZVclUNwfrcK9rI5DXANJZohR6maMmnJXg8eIKD5eH2jcbXCY2XFVr+mf0aE+oY0Bfu0sprufb8HRcmANp2gaiITYsyp1WqBDkR/d0GdleZqFfybscPhcCwB/GXscDgcS4AjpSlqtNCcVeeRM3SbZV/xuR1XcZk8YegBVhSYMe89hZFbmykUHiLsz1dOGW7USTsUqtiyyogRkSPWYUiZn480hamGjG24T6uZWwvO+8eKu1xZb1oB+4MPPpyOZbw+ptgnhbD0CSF4j2hXaDwPMl8MXusEYeEAyQxjQxshoYZWpazoUaj2K0nDcQrrGVJyfyYPTeETEkPqx4lTpGrSdW9vWm8Kc+047rvelapOcw6/8sorizbvvZmDtKTEM8Pj5PsbFQTULRzD0jNTsqDdj84zXib16rlAaoJJPlN4tayuJmoiZK+sJuZ9bPPzapvcybh6HqlQKZrXmqtteK2sHN3rJfqKSq+D4N+MHQ6HYwngL2OHw+FYAhx5pY9UILE6LGBok68Mt9ppH4YuDM0YAm1tpXCRIQZDq2lBWWFt8KwnQa3BxJQJ9qlWVpBuIa3RBh2QV85mNQTuU9q/aypCpHHjCjqVA4/8hXeb873rXY8s2qdOnVq0V9dQmBNJGG0kIJDWaCGxgP0whWYHZUqGNIcJy3F9PVh2TiewPkSfqGio1+wy+BAr3/S82AS9wHvZRnHLmRD2c/yheMmrqJA64xzbRkIN5+eFCxcW7TXM8x7UG0YpZEJ96+fC37FdKpTJZ7FEJxB5pY9YKChrPEcK9MfObpqfm1fTvVhdPVa5vVR+/vj8srjveEzqkza+1Qlbk0Jh4Pzn0ZAKjLRNLRz+FevfjB0Oh2MJ4C9jh8PhWAIccdJHUL22F9pNZwwvqi0UKX7PwfDI2N/RGrCgjmDSR9NQE9U5+pL1hIgMV/A5xeI8LsP4GvZl+KRMDBELagAT+sEWYLCVQt5Scsy5c+cW7XvvfZs53+23p9+dOJEKibKSAukBqgIsTZGogn4rbW/6NLL004hWixj3NkT1XBEfQglABQQD9AboklF2vmYDahFjMYr94XkwjWn/FuYdr2MV172ykigLqZyMcuxYCr/vueeeRZv02uXLlxdtUhkcc6tgsROplChiKpOATiqpkUqJVTltQPWG8SahMgr7UJXDAsR83ui10l+xKiAW+KX1KKnBgIdrgoo4tYInysTQGul61tZswompXsKkMqqfSO9c0r449DfjEEI9hPAnIYTPzX++L4TwxRDCt0IIvxNCqDbddTgcDseBuBGa4uclPY2ff0nSL8cY75d0RdIn3siOORwOx62EQ72MQwh3Svobkn5t/nOQ9GFJn55v8ilJP/VmdNDhcDhuBRyWM/5nkv6RpGsuG6ckrccYr5ErFySdP+ggIUjX/FeatXblNiarJSs3ZKQl4Jkn2GcHfFsL3GCzV5BcNar55m52bnJQF5EhVYM0iiVu2oUMvPUrVxZtZu3Q81iyFbOrRTcWI3B95LnIS7797akc0MqK5eNpLkQfYXKT/X46VhtSM/LjXXC4gdWrzfXY7wATyNMaYLs6MOVp4XzkLymLo0yRfG4u4mKZpzaqba+spTEZgX8MKPM0o98yKn2TOm13kxnN3i+rZZxsH1tNPL3h8zHnWbIpglPttdGPmc1araEyMuV3NLsaotzR9iitPXRRGblUebmWlV0K0PVdWx+SpCDKM+Gxbap+w2e6U+29nK/lbG2lyum7u0nG2caY8DnrdPlcpmva2UnPXwPZe5y306xiPGWVuMVqdFBCq+CRXYUDvxmHEP6mpJdjjF8+9FHt/o+HEL4UQvgSy6o7HA6HI+Ew34x/VNLfCiH8pKSOpDVJvyLpeAihMf92fKekF6p2jjE+IekJSer3Vw7zJc/hcDhuORz4Mo4x/qKkX5SkEMKHJP1PMcafCyH8G0k/Lem3JT0m6TMHHSuEoM48jDVyr0J14HFmFMRQiZllDF3oC9xBZh7/CtDop4HwtyQhk6y5DTPURvRfZghqvFxTmLQGL90GwvirV62/MMN9yo0ISnC6kJ2NYU5y191JMsUko9y3lj+TBqCch+Yr3KaHvvK+jhEyzwrjIVkpGGVI3K6UMTYDJTPGPJjBz3Zlxfo7D8bMugT9wTGpQ+4FydtaD5mHmEcdjMFklM0dlE6il/Ma+wuTnJOjFNpe2UjU0Esvv5T62mYFb5jiZKRMrQYZGY5LWuzq1SSfa4EeYMYr/XpJ/LBUkmRLRrWaLNtE0yBWYmY5p3SfaGTE53tnN9F8kjQc8T3ACtTpHhxbg2+4ufcsv5Xu3xCVwSmry2mKjfXUlwCpJzOCR8PDswGvJ+njFyT9jyGEb2mPQ/7113Esh8PhuKVxQ0kfMcYvSPrCvP1tST/8xnfJ4XA4bj0ccXXosAg3GbYyBC2Fo5JVQRiPWLNaihChkAlTMxl71R6x9LnNwb4zE5A957H6UCqsj9Pq7wihWLNt1SX0dTbeusbTtjq76vyddy3aJ0+nysTMmqPKQrL0QsmEpo6QPgSMYWAmE312cV+RH5d5MBmagplzXOFmCLqNVfOJMeFhqIjSPlmW2AheuVStdJFFd2XjuUX7a1/+o0X7tlNJ9XDHHUlAdOztDy7a9cxUZ9ZA6SQsYrdINcCI6syZdM8uXUlpW2fP3pY+v5QUPS3QR82aVQFFLPMzw217O9FiMzwDtTpopnEa2xgxH6F64Lzb+zndA5bNarZgohWrSyptbyclB6+Jc54UgiQNR6wOnrbrHUv3n1maLI9Fb2NDRzSYvVf9npJsJmcNzyJLdq3001jRp7oK7k3hcDgcSwB/GTscDscS4GhpihgXCgAmJhBUCOQWozQPKZmvUHxtTINo4oMwnGHIYIiV2bE1l6F6Y+3YSVXBGKhg1fzqeqImrm4mpUMTq+CzjJ2p0UwF5iYlX1hSMnecTzRFr5fUGyapJSvP00FYb1bnWTqHfrimpA6r+o4rty8pZiTrI9zqVCfLEBsbG/gpjcGZtRTeczyvbFwWMcb5mXCyDUXLn3/9qUX7lQvfXLTXn0/X95//Uzru+//yTyzaf+nDHzfn28WF0JeZY9jrwZMbX5HuvjvdSyoSLl78/qLNpJtm3apkqDCxzwZ/SMfdvJqoglPHYRhFqqWe5spoaBUGvGe8piioGJpp/y0YXFGZYZVNPKr9/kiFD5M7ut2kLlrH80cjq3qtkAhG4zIIY0jBSDlNyBJo8Ckv+EBXwb8ZOxwOxxLAX8YOh8OxBDjiskthEVJNTCmitE1zn8qzpSSAkp8xwRVZhsybW+uLNvPco/KVU4jCB4myYD/GE6gQEC5euvyysMOiOZugnZ2vXUv9ZaRTr3MlGz6tWKW/7UxKShlDhXD69Jl0/IymoOcCRz0i2SU0WeE3fU5vaposb6KsUD2iDNXY3tcRqIJNxPQ94wuMckBtqEswhpdRqmdcSADYO1I6/3CQ+rgDP4q144mK6h0/sWhfePprqR+Ya99+9luL9vt/3CpxJri3tVHap4HQf1Jn+ai074kTiXq5+Oqri/bKSqIQmJgTrysfxOcs3b9+H8lHY6z4Q6UxQCkh3rJGI52j1bRllyYYd5YIo9KF87bTYaIUK6KDrpzyfHbekk4kZbGzkz4nzUF6dDxL11cqSVUzJbvs2Hbht26SmprVyq2D4N+MHQ6HYwngL2OHw+FYAhw5TXFtNbOGPG9SFvxa374uEYI58SkMMX4WCENITbSMpWXafhPUxHBICz4bfrULAn2WfWECyRYE70zgqDep/KguPSVJQ6yCryCkZChmqJoRyyBhhbnBfqdrarasX0MNK8uzCBpgRn+CFIqNYSs5rsG8IaZ+DxH2sxoQS+3s/ZJ+COlaWR6L/gRUfgwQjnLMB0gYyauMd/tpf4bMEfTVDj1H0I8W7h+TBibo32BoaZFpHeWEIu1CMSisKFwjHZTGf/1KotSYtMPxDNHSXbw+UjeWFUs/0Ep1MEjP0smTiQphgsRg195LW3aJigiU1sL4MI+CySesMm47m1VoxiuMFZpPnkzUUq+b9uE7ZTqunl8ESyjNTGEvqxYhTUHkPiz7wb8ZOxwOxxLAX8YOh8OxBDhSmmI6nWpzc09YT6qg2aq2scy/+pcoCIYY3Icu+wxPeI4GhNuDWB2SS1KnTQE7lAEzUiQMddLnrEBwsp/Cpz6qbYSMpmC1AfoC0F/C5NbXQemAFjFVCxAKz7KVYV6tqcphqm0zHE7jPx6ncZ6OkNSCE74Mj4V6x66Id48n9UejiSScAa0MYVEJlQ3vMb0NSFNcm3OL343S+TuoykBy4XYkWzzz1f9v0W6CMuphbB957/vRPxtKR9hYtrA6X1O1OoiWqQN4L6yvJ5qC17qDdrtpqT1ae7ZArzHaHwzp74Fq4J1EWayuJlqEXiLDXkZTQGm0tZXGvddPY07lTzCJKKlNbxiqKepZUgsrlpOeo8pjF4oZ0pV1jA3nEec/qQhej2TfR7xn9X2o1v3g34wdDodjCeAvY4fD4VgCHClNEWNcrGyTphgj7JxGWtxZ/wp6HQwQxjAUKFXFIK1hE0BgXXj63KI9HNrwa1YSpM+qEyFIWfT7KdzroFBis4FwOUvCaCKEGrNoI+z5pk2sPoO+oFi/XqfNX9rm8pWUQCClQrGS1OqgAOQUvwCNM91JyoUrL3xn0f70b/7Gon3f+TSeVEz8yIc/Zs7d6KYQuNcHxVLI62dIaVfvU//oE5LTXUwCGU9xX/H5FN9TTtyeKIszJx9etN/2QLLNPH17KiI6lQ1Nt0HjRCS4cN7uDBDawhtkE1aXvG7SRwyL89V7zvVGs9or5OTJlOAyBf0UZlR70A61nAhBD5eV1URn1Otpnw78R0jhXb6cKmccR6LNAMqWnR1LFfThvRICqb10HZwLxvvmulK1e+DYkALNx3YyrbboNdRepuTZD/7N2OFwOJYA/jJ2OByOJcCR0hS1Wk3d3l6YPpmkr+8bV9NKewOi+tHAehgwXOmiyONoXF1I1BTHHNHaEXnytMtDgkO7ZWkDm3BCO04WVGSVBVQD6abPZwhtZlhVboYsCQNFLWtQJUxQaLOPMJBWf5vbKfRrQgXCMVs5Zq+v0aS/R+r71CS1wEcAJ3zxxecX7eFuWvF/7jspoYaM00Pvep85d+9UojOo+OA9IB0xg9KlbrIG0uf0FGAFCElqgzKZjRjuQ7XSTmP1F//KX120T59KXhE92DTy3o8yimuC88cA21OEzE3QV41Woqi+/9KLi/buTlKqtNs8d3qMWdlFsmH51gb2x7NB+sJ6LMAHBSE6abrdHUsLNqGUqdF2E8VJQw205GYaq1UUjm2AKhiCksyTM9qt1N8hi3+2q6mGMbwstpHw1et10E4JLkw+idnrcjIBNYHnms9JiTatgn8zdjgcjiWAv4wdDodjCeAvY4fD4VgCHHEG3kQb8xI45CjpdToFj8pqtvk+LEo7JScH0pGZV8zgYqpVixKyUXW1WMnKWm67LVXpZT9YFifGdKyLLyfej/Rlp5N4v42rVrLD7Rqs1tyCtA28u80Gopwm9eORR5IUaxVerHvXkfpOAxV68ZLv5F/xY6dSBt0IfFmb++K+vPi9F8y5777/3Yt2ExmRazDDeRWVdZk1SWVVC/zh1ha8jTP/5F3weH160mK9oUmzJbS7q4mTZXXgLubL2qrlqFmeh3OSlYrbLDfFmlHIvuwgI46mTydPpvFvt6ysjkZBPUgsySWTD25BbkdOm+NpShRl1aGZacdz07BqZxde08iuY6kkzmdy7rnaMRq/5tQeIBOQawb9FZS3UjoHq4/z2bXZwfbcNACb4D5x3cq8dw7AoV7GIYTvStrU3mtsEmN8NIRwUtLvSLpX0ncl/UyM8UrpGA6Hw+Eo40Zoih+PMb43xvjo/OdPSnoyxviApCfnPzscDofjNeD10BQfl/SheftTkr4g6Rf226FWq2tlZS9jhmYhxrgHcphO22bImK//MAhhRlVYQSYawlFm4TB0ILUwRXbU9TRFtfyHEjaat4zHMDqBVOzM2dsX7XYrXcMwk/Ex+mMIS4/YK8iiG1HWA7nXLva9+FKqKNzvWSkdpX/rG0medt9996XDcrYgRLv9/D2L9s/9vU8s2p/5zU8t2hH9/v5LL5lzB6T/UY5ISRPpCNIozN68eDGVtyLlYGgNSQOEpJQHNkA7DOGNrEnKfGs2Y2W7VuP9s99x2gVDGpudlY61DWnihQuJ0mm3SFPAlxfzfxht1mqJjmhgjtBPnNW9L6+n6teUdvLcnY6lRUgv7Gyna530+Dwxky3tfxWVqV+9lOZ2t5u2OYYSU5JUr6WxtdmwLJ2kys9ZeqoNaSEljny38P2zd770XL/66sVFu4dnK6dx9sNht4yS/u8QwpdDCI/PPzsbY7xGhr4k6WzVjiGEx0MIXwohfIkvYIfD4XAkHPab8V+KMb4QQrhN0udDCM/wlzHGGPiVzf7uCUlPSFK/v1JdLdThcDhucRzqZRxjfGH+/8shhH8n6YclXQwhnIsxvhhCOCfp5X0Por3VyMk8W25lJYUbU3zdN+Yw0Rq8kB1gyDWa0BQkfdlnuMCQkOFFDaugPHdemdqUTsK56WdM+mM0qvaIpZEKQyyuPEtSo0VjIlA6WAFG4pSa9UR5MJza3Ejh9ref/faifXwtVRfe2yeNyfnz5xftFrPVMAYc/zqy3RqdpIC4555EcYyQ6fa+D3zAnLu9lqgC/kk3FYVZVRvXtwvfYhrYMCMuL6E1xQp8D2WGmJlpDGWYKUdKBaWqdrfonc1MTDvfqOzgPWfpJNJrVPi0kJnXwPhvbaU5lZcl6nbpI4zyT9iM84s0CimjU1DMEHlGHO9BxHjubFOBkW7yCCZYA1BtDdy/YzAN6mZj26iDppiiUjsNpHA+qlNYsqkWQHXi+GPSqTNLJKyvpww+3rNQMmk+AAfSFCGEfghh9Vpb0l+V9JSkz0p6bL7ZY5I+c+izOhwOh8PgMN+Mz0r6d/O3fUPSv44x/n4I4Y8l/W4I4ROSnpP0M29eNx0Oh+PmxoEv4xjjtyW9p+LzS5I+ciMnC0FqtvZCFyZqUOjfREhfa9jQvVTBtcVkC1IeNBvB56ysSzMUE15kKFV/pWHL1nYyYmFI2O+l81H8zsyO6cRe23TCUC79bn0Dq8xYyR6PYfRDOgdjcOF731u033l/SgCRpHvvvXfRXltJ/SX1MsaKf41+1EP2L4Wjz76YDKB+6r/6O4v2Ox75i+bc7W6iKRgaM5GiC1WIZtVVfZnUIITxq9kKfK9J2qK6xNQM1BdLHw2gOqnh8aF5VJ5kYqp4g+qZguLaBs2xsZHC34svp1V6rvKPRjBzwiL/2qq9VtI1DP2Ho3Q+1dIB2qi83cO9J2W0uZn6x2QQSep00r0kXcYErsEAHsF4dldXk7qB84DGPd2eTVaisqYFc6DGCCY+oKVIE9aszGLR3N6hygX+6tPMXx1JaPQjZ7vboenT/kyup0M7HA7HEsBfxg6Hw7EEOFJvCoWgMF9Bnhq3eQAAGxBJREFUZhKG9cmFN3FGDbDsEkMgJkVsIwyhZ+va8ePYPoUOhynZJFllxmQK7wasBq9ARE6/ZvqsmmrSWCnPyzz1V6jMwO9mLO+SxvDUyWP4PG0+QSJLH37G00ypEhCGRqgjmhDck04ixbKKKtdUmjz4wP+atjmV/Dw6WShNVSS9QhgyN+pp/DmGU6yOr65hbE25IbsCD8GN9W7Gfa0jhG2h4vIWvCVaJ9NxT55JaoOQKRquXk30VZ0SmFF1SZ7NzbQ9fZlJ7ZFCoGKilV2r8fTG53WodSBIMc8lXw7WEzrtuwGPZEkawYebz8wYNNzKKpOd0ucc536PyTgm28icj88vVTZGloOSUawgzbyHXVQi395JySekZ3IakyqdCUprmUSbNyHpw+FwOBxvIvxl7HA4HEuAI6Up6rXaomJsSRjNitC17G8F7Q4ZrbBSNL0GGHLVTdkY2E1ipZz+CXnSx9ZlWAgipKFfAM9RY6XoUaJOmDxCy0BUd5n3MZ2foRhXr2tMRMGdZAXq4ZBC/7T9erYKPqszcQMVpdGxwMSUGZNg0snPnL0T/UvH7CHJJDStSmYXFX+bXMFHSMnp0sE8YIhuLFPNgGYeJ5PqBAuGrSznRHvE1WOJYlk7DpUM6IdJ5mHQHIMqWMfcG6ZzT6kQQWkglgOiosd4U+B8k6mlu8Y7UC60kJABeoYJJCMmL5hSXNXlqc6dSwlCkh1DqiPoYUHaYQxag0ojztVrfjaSpCw5CtNWu6AXqIKgPSYVEevw3mC/+eyGAHvRlqWAiLW11Efep9zPYj/4N2OHw+FYAvjL2OFwOJYAR0pThFpNnbmVHi0bGSbxa/0oc3mbwdaQlADDngZy10uKjRZWSAewveQqaq6saOFYQ4SXtK4k7cAwcG0thbP0I6BVIsMhyYZfXOWnsH1nkKwuZ1dSKHbieKpGsbWZ+rp27OSivQ7hvmQVFDWE3Px8hkQPVrlosyIwKIEG9iWVMZlaJQerQFP5MANtFLHPDPdydTXty+rJw900V6h4kWwy0QqsHZutFGpSwbIzSPsfh09Cm0k3oD6G2bwlHcExnKKiBBUUXMEvKQSmphox6Qd7raQDZ0gUIdUgJrjgediaIryf0D8m3aOVlUQLStbusm2exXT/ObZ8HkzlEyoV0L/c6WFWq/Z+MOqPkMb5ypWUeHF1M9XC6DNhCBQJK4M0G9YulP3lHKOVbt3VFA6Hw/GDBX8ZOxwOxxLgaJM+lOgCUgu2KgOsGZtWYmDCQoTuEaEYkxlGuyxKSA8CrnamUOzy5eT7EDLruzqsFrsUjvO4WMGtIQxkqEivgG4XK/YTG16OUV2C+fQ7oFJ2dpN6oAZrRwyNsRi85+67F+1RFt5tIrTq43ykKRoh9b3Vx71gwUcI/buFYow7V7fNz1SIMGmh0Un3fwyFAe9NG9uvQknTaldX0ZCy0B9zoQbaQFNalYJC4ryjzSYSeHa37fUNsZof0JdIysJQAjh3O43BJczP7S0khuC+9LqWNuhg/xHuE/UlTRS5ZVLK5naiwVhQ1lqEWsqJFq/b24mOaJgQP43nGlQ2VDCNDbVEXwurAjLVhUO1F8bm1WrPGBZ4rZuEJiR6mO+r2TsBXOIAqpUplVh1Sz/uB/9m7HA4HEsAfxk7HA7HEsBfxg6Hw7EEONoMvHpdq3MpzA5kXV2amYBLHmT+xeR9R4PEsXUgT5pCarYDzngXPCirNQtSoBMnkmxpe9PyftuQurHkEGVFYraOMWxJf/Moe2EF6txQpAGfV1Y37rThm9pJUrrLl1M20eVLSbLz/vd/cNE2Ur9gub5XLibf3OPHkwSOmV62SjVlUjgQPidvxzWCVstOu5MnE284hcESb//QmCqle0EJGzMrWS5nQCccSbu7MIIBt09fZpYfmuJY65dSBt7t5xMHPw3Vx5Gsxzanyw76FXH/N8Gh76Af61fSPd7ZSdvcjqzHs+eSIZNkx6SOAaWUbhvHojHRznYaZ84DK8O085bllS5dSv3lhbcxh7tYi+HzR4kr13KUSfeGwzQ+V9bTdj2saTCTl7K6FrI0u3iWFNM8p8lT/oxSLjtBWTdK4PbzSM/h34wdDodjCeAvY4fD4VgCHClNMZvOtDunJ1hxd4av/+1WtQGKZD1/p5CC7WylsHMyZjibQoftrSQDayBcX4McqgF52GSWmb0gTKuDgpggfO7QixeVfANohh5ERTOEXLkJyc5OChFX4f/LzEDSFCv9Y9gmXTdNVkx42LaSG447KaBJH96siLhY0optZuAZWgnyLobOUhb+NVD+BpTOEGZCG1cSpbJ1JZV22rqatmGG2gYoHEm6fOmVRbvfT2Pyja9/HX1M/R1sp+PGZhrz937wxxft9//IhxbtVtM+ViPQKrwmMQsOc++5Cy8s2pQyTmfpmmgg1AVN12UmmaQaroPzfmbkiGl/at4ow6Mn95XL6/g8jaVkpWOcb7YaNTJdh6wanTaiKRgzEnMKqA2qoY8xGWO+0cOYEjZK29ow12rU0/Z8h+Tzls/iGvrLUmX2uf6O9oN/M3Y4HI4lgL+MHQ6HYwlwxBl4cZH9RB/aHlQFDG0nM+sp3EV21+UrV1SFPoxjNnCstXPnFm3SH00YlUwQlq2u2NJAU/yuizJDcQoDIvigNvB3ro5qxMx2ajRJz9hsQ/q/bm6m1W4asUxgTjOdpnDo9ttZAgh0BBKIaF4kSSdOppXsk1jVbsFjdoCVfa4RM+OIftTtQgZezEo+sbzWbIr+4ljbMHj5/L//14v21VfSCvoQipld0FK7mXczV+RrpjwP5kUr9aO/lqisMVQB/Qay0vC1ZpR9x6ljjtH32JSVGqT7x/Jia6hsPRml8D4iE7AB3+FLoG0kaQtKiX4rzVvSCSWTIqop+Mzcddc9izarikvSiRNnFm0qMCJoEWYkXr2anuOnnvoaPk9GVlQt5GY9RsnTT2O1DVqL56NnchNlnkhNUEFhSlplVCLHpGuokHpl+yAc6ptxCOF4COHTIYRnQghPhxA+GEI4GUL4fAjhm/P/Txx8JIfD4XBU4bA0xa9I+v0Y40OS3iPpaUmflPRkjPEBSU/Of3Y4HA7Ha8CBNEUI4ZikvyLp70lSjHEkaRRC+LikD803+5SkL0j6hf2OFWNcePPGGVUF8DRFOEOfXMkaytBkhQkWQ4i6aSxUR/i1diwpDKhauILEh40N6/dLdcQIK7pMpBgg+maYRfOW225Lovx2JOVgKZnJuHqVuQ4v2W5vDZ+n6zAr1EweadMD2tIi/d4qfpemBY2NjHETyxLB1zXA1EWBRjGsam0NVyi+pxnRrJfOsYJ7NtxNc+Ti899P24O2aUKV0c6STNqoPLyKBJfV44neaUAZ08Q8vOf+hxbt+9/1Q+ncNQj9h3bVfTIiLQKaok1zpzRu/T7m2g6rcKfkmA2E9zvw+V6JNslg69W03aujNFaNehrnK1dSWN6HKueRR9K1fuhDH8I29O2297LZSGNFD2QmZ+wgUacD06FO59nUbzzrTJzIk5VGKJtGT+JV0HBDbGMKzqPrNI8i/XfseHrGuh2rVKGfsaFh8Px1a9VUXRUO8834PkmvSPoXIYQ/CSH8WgihL+lsjPHF+TYvSTpbtXMI4fEQwpdCCF8aZRl1DofD4djDYV7GDUk/JOlXY4zvk7StjJKIe38eKy33Y4xPxBgfjTE+ul9BP4fD4biVcRg1xQVJF2KMX5z//GntvYwvhhDOxRhfDCGck/Ry8QhzTGdTbcwr+I5G6d29CZ+KBsLLaZZ4Qa8JUxEaYRMr67IkDFeMKehf37ha2X7wwYfNuZ977rnUL3itbq2nVVuump8+mcLfPjxbn3vu+cp+Hztm1Q1mHKZctUd1aYRlJnxjdgbbCPfGWWkghoKszMs+trD6zyhnSI8FhK01UBOkYfJ0/fGIygBQJPjjXT+RAq+/+/jPL9ovPZ/uy8Z6CslnU5bDsivw/eNpxf/YiURNxHqiSzqgMiKSM2DrqzF/wPBPRykpQpIGUD4MJtXVob/ylT9dtL/3vQuL9hAKlj7G/21vf+eifelSUpR8B/NUkgZ4ZhoYz1On03X/5N/4qUX7nnvuS9tgbEjHca7kiVm8/6MRqbc0QLvw4d41/sRQs0BptDsgzWC/8/Xgl8KkK9Kg9Lxm0g1LfPEyjmN+sCTY7k7mOWIqZqfPqSKZzSytsh8O/GYcY3xJ0vMhhAfnH31E0tclfVbSY/PPHpP0mUOf1eFwOBwGh9UZ/3eSfjOE0JL0bUn/jfZe5L8bQviEpOck/cyb00WHw+G4+XGol3GM8SuSHq341Udu6GwxVfY1VXIh7h+BAphFqzCgqoAh3g4sEXvIs9+C8J+hHO0HpwgOPv5f/vSi3e/bpI/bzyWbQpZxufQqbPsgEL//7W9ftBkO9RH+nj6dqjh/+ctfNufrryZ6gMLzCcK0EVaoL8EvgCHlDNfXalt1CkF/CO5PFUodK/CNJmiNHlQadZasSbA0iA01SYsI5aC4UN+Ad0DzWPrFvUgyMFaVGKfJ2IaXdfYF1x3pq8H+GctUzNsd0mapPcw8DKaR1Fva/zvfSZTCc9/97qL9jocSBXEMviTveMeD6fNjSAbB9ZGqkaQt0HMtqEJOnkpz79SpNIa0aG3XMA8wBvRo4DMpWU8QKc3Pra1qeuarX0uJHkzkor9Du+AtIUltKISo3mC5pPGAZa9AhYBGY3JUFJUVqd3J1BRcAxshIYe+H7sDa9+6Hzwd2uFwOJYA/jJ2OByOJcCRelPU6nWtzVUDAac2C46o8Bqy7rH6wnGIsdfXmceeDsbEC1adYHWBs+fvWLRvvyNRESeOpzBur/NQGED5cNsdaf+AMLcHJUcHOfAPPlRdPfnyFbsC//QzzyzaO4Mk1meVkRnCqfe+JyUgnEYI2ulSdJ76l2u+ryBEXMP1UdjOHH+GrS2sHvOa+JeedoP0P9gDQv8s7F18Pk77R+6O5JUZQsq6qZRiE1waNXhhgHbgyjeLZxvqjOJ+JjWMQYtklb7roGG6mAtNJIB84IOpIss7H0pKHtpQHjuWVDnNVjomq+aQSpKk21AFZPUYqmeDOqPFJOdwp07LzXStTShecltJKpWooBmBSvnGN55etLc2U99XV9K8IzVHuipXbzChZ2M9WaXOMG+nAygo2pwXoKhiutZWm9edztXrWVUO1T57uXB7YP4WlRUHwb8ZOxwOxxLAX8YOh8OxBDjigqQNrfT3kiEYtvb7tK9L4XoM9m/FAJ4QzGlntYYN2E32EeL1ukmdEBBm7eykMGsTOf5nbrvdnPt20BmkS7axD0P/eiedow6Lw+NrydyuhtXqv/zjP2HO9+iP/MiifQkFGZ95JoV4z3/ve4s2KYQWhPArqGRiVRZWjD6eVFdI2YFIvtZIY8WEmnqrMI3qsJtcTfTMZGRDW8ahU/RrCsaCSoc6qQlQHKyTSWvMWs1ea5xAsTGlOgWqHvRxjKQNhuVDbMNkhGZGw9CDYrCT+tJvpTF81yN/IX2OseX5WBh1uIMKLFAFnDptC5I2WrSMTG2qZ6gKqOGZa0EFQsrBJnbkNAXsVNFfPtcvv5yqg9BGtM4biKSNFn1NMoaribmwuppojtksPYtjJFBFfB5BXbIiznC4g21QrQZUWf4zlV+kREklHgT/ZuxwOBxLAH8ZOxwOxxLgSGmKEMLCxrGNVV+uwNaQTDAZ2BV/CuC3mejRTyHG8ZNJSTAFrTGDymILQuz73/5A2her1VQRSHZ1lwVCh8MUGlG9wSSH3koK0Vf6tKqEHSZoFEnmz+SJ9eRzcf9D71i0L7700qL93LPfXrSNIRNWokktxOzPcAcJAay8QW8L2mAyzC1VM6ijyGYLlTM6mWEUw7rB2Cb6JFQXOmXIzDZpl1lWMUaTagWFUVNgfDpQHrRBj61hPHgv8/NdRkFUFs9dXU1zoUmLVlhuMuzn+B+DMqKNucn+SVKsFqeYe8YVf9IiM1p/YkBIx+WqHO6/w8oroPZ4Ha0OlC6YdjMmcOAacqWKYNlKf5ftnfQsDuF/QZvVwWbqUxO+FqRkxlCB0BtHskol9pFFeXMr3v3g34wdDodjCeAvY4fD4VgC+MvY4XA4lgBHyhlPp2NdvTKXaYFjmUE6RL/R4a6VklDCswLetgf5Vh8VpKfgnCml2x1RopV4O/qvTieZmQ2ydXq9xO+yei85QHJkNUiK2uCGye2227Y8CzOWTsFQiBwW5Wzff75VuT154hOo+rwFzl2STp5M3rU1VsxGxtOK6S8yyZo2wy0dB7wy2isr1rAoUM42JYcbKz+fFMykeMdM1tYk85TFfGuBq6Wsi+ZFAdl8RoZHb+NxtfxNslJBzpc6uhVA7vKe9TCfO6baNrx0IdUMmVn0Lkx58t9dg+VIU9+b6F+JC86vlc/vYFCdsWmMhjCem1eTsVcLHDzla3n2Jp+HF15gFml6zsjtru+kbVjq6upGqqq9tc1+Q1aXDR+908mDN/D8lJ6NKvg3Y4fD4VgC+MvY4XA4lgBHSlOMR2NdfGGvpEyAZIrVgacMIRvWZGPtRJJ4tSDnqbHSMUJHhkaULa2uJTphC1KjWqiWcUk2dGSITskbr4PhZZylfjBbcIJrbdTs38UuaBgFhu4pRGd23Nve9jb0g5K5buXnvVzahu2YAUYTGoZcJiw7hOSNlXuZkSZJAtVQr5ckczA5QqYczYEiqwjTzzaTQzUL4XpgBhhpNHIebIbqDLXNTUsBcXxINayeS2PSg382Pbk511jRezJFhhnmESkEyd4P0gO2qjO9nyEJBB1EidYQktHNzUQt7P2ctiOlcOlSogF2IRFrdniPIS3EPGAibrdr6bzJuFoCx2u9fAkGQpgLXTyvAePR6bBME7LxsmnDZ5z0E2mKnMbZD/7N2OFwOJYA/jJ2OByOJcCR0hStVkvn775Xks2WYRhnfG+z0J0hyXCUthsNUmmZEfbh6uzaWjrfGVS9nUJZ8ewzTy3aW7en0EaS7rrn7vTDqUSXMKQZIlRlRecO/FHHUCfQ+7fbsZlTMiF3OtZwnD4/jorJx4+nayLDQiOj7Z00ZlR+SFK/m37ud5CpN2G4SNMZlpJC6A2lBNkjUji1uo33GMmxkq8FK/FibGLVtjJGM5OsEvYM8aZRGKBtqAl8Z5lNmb1HD2Nm/O1TERj0XA+h7YmTSelCeoYhL6kFlhWqIZ1yGu25jVKCGanMEmTmItQJW6iWzszBLVATgx1bVugVmFqdOZPmZ6+b5tRdd92zaG9vp2Pdhu2p4uG9mELBIEmRdCeySLdhpDTDa2RlLSmNRjvJsGi8la5jcwjP6innhJ23LAcVcZIGaLitbc/Aczgcjh8o+MvY4XA4lgBHSlM0mk3ddtteKMLwieDq7yyLQeldW0cs/upLKTQaYwX4FMoPUdxPYXoTYeDWTvp8I1slXoECowb/3iZCFVEgjn15rW2slDMcDZl3M68vBiYawCO4n/YnzdFsMoEgid+tAY0N3bnKz35xlZgKBYbiJqyG4qLVIh0gtG24dyPCeMlWJI4FJxyG9LkyhtdRUk2EAk1hkj6gYigZFu31t1b5uwaSNUpew5HJLoXkjFJ7v9+RHpjQ+Ac0BasqMwHrlVdSeP/i91NJMEkKoJBI1R07BhoMiqIa6lvx+aPaajxN/Rhs2fJkTSiuqIbpwk98Ok0UyXCbCSuoGo1bRpXT2lqiJKcz+4ySjdrZTZTO1mY67u7QKmv2g38zdjgcjiWAv4wdDodjCRDykOpNPVkIr0jalvTqQdvepDitW/Pa/bpvLfh1V+OeGOOZ0i+P9GUsSSGEL8UYHz3Sky4JbtVr9+u+teDX/drgNIXD4XAsAfxl7HA4HEuAt+Jl/MRbcM5lwa167X7dtxb8ul8DjpwzdjgcDsf1cJrC4XA4lgBH+jIOIXwshPCNEMK3QgifPMpzHyVCCHeFEP4ghPD1EMKfhRB+fv75yRDC50MI35z/f+KgY/0gIoRQDyH8SQjhc/Of7wshfHF+338nhFByA/qBRQjheAjh0yGEZ0IIT4cQPngr3O8Qwv8wn+NPhRB+K4TQuVnvdwjhN0IIL4cQnsJnlfc47OH/nI/BV0MIP3TQ8Y/sZRz2chX/uaS/LulhST8bQnj4qM5/xJhI+ocxxoclfUDS359f6yclPRljfEDSk/Ofb0b8vKSn8fMvSfrlGOP9kq5I+sRb0qs3F78i6fdjjA9Jeo/2rv+mvt8hhPOS/ntJj8YY3yWpLulv6+a93/9S0seyz0r3+K9LemD+73FJv3rg0WOMR/JP0gcl/Uf8/IuSfvGozv9W/pP0GUkflfQNSefmn52T9I23um9vwrXeOZ+UH5b0Oe25P7wqqVE1D26Gf5KOSfqO5msw+Pymvt+Szkt6XtJJ7fncfE7SX7uZ77ekeyU9ddA9lvR/SfrZqu1K/46Sprh2467hwvyzmxohhHslvU/SFyWdjTG+OP/VS5LOFnb7QcY/k/SPlGronJK0HuOittLNeN/vk/SKpH8xp2d+LYTQ101+v2OML0j6PyR9T9KLkjYkfVk3//0mSvf4ht93voD3JiKEsCLp30r6BzHGq/xd3PtzeVNJWUIIf1PSyzHGL7/VfTliNCT9kKRfjTG+T3sp/4aSuEnv9wlJH9feH6M7JPV1fRh/y+D13uOjfBm/IOku/Hzn/LObEiGEpvZexL8ZY/y9+ccXQwjn5r8/J+nlt6p/bxJ+VNLfCiF8V9Jva4+q+BVJx0MI1zwNb8b7fkHShRjjF+c/f1p7L+eb/X7/hKTvxBhfiTGOJf2e9ubAzX6/idI9vuH33VG+jP9Y0gPzldaW9oj+zx7h+Y8MYc+w99clPR1j/Kf41WclPTZvP6Y9LvmmQYzxF2OMd8YY79Xe/f1PMcafk/QHkn56vtnNeN0vSXo+hPDg/KOPSPq6bvL7rT164gMhhN58zl+77pv6fmco3ePPSvqv56qKD0jaAJ1RjSMmv39S0p9LelbS//JWk/Fv4nX+Je2FK1+V9JX5v5/UHn/6pKRvSvp/JJ18q/v6Jo7BhyR9bt5+m6Q/kvQtSf9GUvut7t+bcL3vlfSl+T3/95JO3Ar3W9I/lvSMpKck/StJ7Zv1fkv6Le1x42PtRUOfKN1j7S1c//P5u+5r2lOc7Ht8z8BzOByOJYAv4DkcDscSwF/GDofDsQTwl7HD4XAsAfxl7HA4HEsAfxk7HA7HEsBfxg6Hw7EE8Jexw+FwLAH8ZexwOBxLgP8fS2xVaoxIjgsAAAAASUVORK5CYII=\n",
                  "text/plain": "<Figure size 432x288 with 1 Axes>"
                },
                "metadata": {
                  "needs_background": "light"
                }
              }
            ],
            "_view_module": "@jupyter-widgets/output",
            "_model_module_version": "1.0.0",
            "_view_count": null,
            "_view_module_version": "1.0.0",
            "layout": "IPY_MODEL_41977762763b41d0b493ac11ed2eef71",
            "_model_module": "@jupyter-widgets/output"
          }
        },
        "41977762763b41d0b493ac11ed2eef71": {
          "model_module": "@jupyter-widgets/base",
          "model_name": "LayoutModel",
          "model_module_version": "1.2.0",
          "state": {
            "_view_name": "LayoutView",
            "grid_template_rows": null,
            "right": null,
            "justify_content": null,
            "_view_module": "@jupyter-widgets/base",
            "overflow": null,
            "_model_module_version": "1.2.0",
            "_view_count": null,
            "flex_flow": null,
            "width": null,
            "min_width": null,
            "border": null,
            "align_items": null,
            "bottom": null,
            "_model_module": "@jupyter-widgets/base",
            "top": null,
            "grid_column": null,
            "overflow_y": null,
            "overflow_x": null,
            "grid_auto_flow": null,
            "grid_area": null,
            "grid_template_columns": null,
            "flex": null,
            "_model_name": "LayoutModel",
            "justify_items": null,
            "grid_row": null,
            "max_height": null,
            "align_content": null,
            "visibility": null,
            "align_self": null,
            "height": null,
            "min_height": null,
            "padding": null,
            "grid_auto_rows": null,
            "grid_gap": null,
            "max_width": null,
            "order": null,
            "_view_module_version": "1.2.0",
            "grid_template_areas": null,
            "object_position": null,
            "object_fit": null,
            "grid_auto_columns": null,
            "margin": null,
            "display": null,
            "left": null
          }
        },
        "4a8aca4c02604b58b79481de1ab7963c": {
          "model_module": "@jupyter-widgets/controls",
          "model_name": "ButtonModel",
          "model_module_version": "1.5.0",
          "state": {
            "_view_name": "ButtonView",
            "style": "IPY_MODEL_454b0fbb8e6d4f5abad8d19c63f30a13",
            "_dom_classes": [],
            "description": "Exibir Img Esqlt.",
            "_model_name": "ButtonModel",
            "button_style": "",
            "_view_module": "@jupyter-widgets/controls",
            "_model_module_version": "1.5.0",
            "tooltip": "",
            "_view_count": null,
            "disabled": false,
            "_view_module_version": "1.5.0",
            "layout": "IPY_MODEL_226fe99ad750465eb607e4f6c1c08505",
            "_model_module": "@jupyter-widgets/controls",
            "icon": ""
          }
        },
        "454b0fbb8e6d4f5abad8d19c63f30a13": {
          "model_module": "@jupyter-widgets/controls",
          "model_name": "ButtonStyleModel",
          "model_module_version": "1.5.0",
          "state": {
            "_view_name": "StyleView",
            "_model_name": "ButtonStyleModel",
            "_view_module": "@jupyter-widgets/base",
            "_model_module_version": "1.5.0",
            "_view_count": null,
            "button_color": null,
            "font_weight": "",
            "_view_module_version": "1.2.0",
            "_model_module": "@jupyter-widgets/controls"
          }
        },
        "226fe99ad750465eb607e4f6c1c08505": {
          "model_module": "@jupyter-widgets/base",
          "model_name": "LayoutModel",
          "model_module_version": "1.2.0",
          "state": {
            "_view_name": "LayoutView",
            "grid_template_rows": null,
            "right": null,
            "justify_content": null,
            "_view_module": "@jupyter-widgets/base",
            "overflow": null,
            "_model_module_version": "1.2.0",
            "_view_count": null,
            "flex_flow": null,
            "width": null,
            "min_width": null,
            "border": null,
            "align_items": null,
            "bottom": null,
            "_model_module": "@jupyter-widgets/base",
            "top": null,
            "grid_column": null,
            "overflow_y": null,
            "overflow_x": null,
            "grid_auto_flow": null,
            "grid_area": null,
            "grid_template_columns": null,
            "flex": null,
            "_model_name": "LayoutModel",
            "justify_items": null,
            "grid_row": null,
            "max_height": null,
            "align_content": null,
            "visibility": null,
            "align_self": null,
            "height": null,
            "min_height": null,
            "padding": null,
            "grid_auto_rows": null,
            "grid_gap": null,
            "max_width": null,
            "order": null,
            "_view_module_version": "1.2.0",
            "grid_template_areas": null,
            "object_position": null,
            "object_fit": null,
            "grid_auto_columns": null,
            "margin": null,
            "display": null,
            "left": null
          }
        },
        "a10bcc76c644424fbcf1fcd340ef606e": {
          "model_module": "@jupyter-widgets/output",
          "model_name": "OutputModel",
          "model_module_version": "1.0.0",
          "state": {
            "_view_name": "OutputView",
            "msg_id": "",
            "_dom_classes": [],
            "_model_name": "OutputModel",
            "outputs": [
              {
                "output_type": "stream",
                "name": "stdout",
                "text": [
                  "Exibir Img Esqlt.:\n",
                  "Resolução:  (282, 412)\n"
                ]
              },
              {
                "output_type": "display_data",
                "data": {
                  "image/png": "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\n",
                  "text/plain": "<Figure size 432x288 with 1 Axes>"
                },
                "metadata": {
                  "needs_background": "light"
                }
              }
            ],
            "_view_module": "@jupyter-widgets/output",
            "_model_module_version": "1.0.0",
            "_view_count": null,
            "_view_module_version": "1.0.0",
            "layout": "IPY_MODEL_0f10cdd127a947a5aca126f22cea761c",
            "_model_module": "@jupyter-widgets/output"
          }
        },
        "0f10cdd127a947a5aca126f22cea761c": {
          "model_module": "@jupyter-widgets/base",
          "model_name": "LayoutModel",
          "model_module_version": "1.2.0",
          "state": {
            "_view_name": "LayoutView",
            "grid_template_rows": null,
            "right": null,
            "justify_content": null,
            "_view_module": "@jupyter-widgets/base",
            "overflow": null,
            "_model_module_version": "1.2.0",
            "_view_count": null,
            "flex_flow": null,
            "width": null,
            "min_width": null,
            "border": null,
            "align_items": null,
            "bottom": null,
            "_model_module": "@jupyter-widgets/base",
            "top": null,
            "grid_column": null,
            "overflow_y": null,
            "overflow_x": null,
            "grid_auto_flow": null,
            "grid_area": null,
            "grid_template_columns": null,
            "flex": null,
            "_model_name": "LayoutModel",
            "justify_items": null,
            "grid_row": null,
            "max_height": null,
            "align_content": null,
            "visibility": null,
            "align_self": null,
            "height": null,
            "min_height": null,
            "padding": null,
            "grid_auto_rows": null,
            "grid_gap": null,
            "max_width": null,
            "order": null,
            "_view_module_version": "1.2.0",
            "grid_template_areas": null,
            "object_position": null,
            "object_fit": null,
            "grid_auto_columns": null,
            "margin": null,
            "display": null,
            "left": null
          }
        }
      }
    }
  },
  "cells": [
    {
      "cell_type": "markdown",
      "metadata": {
        "id": "6KF_1yK0Nhsy"
      },
      "source": [
        "#### PPGIA - Unifor - Prof. Daniel - Processamento e analise de imagens digitais - Trabalho06 - Implementar o algoritmo de esqueletização de imagens binárias\n",
        "\n",
        "Utilizarei duas práticas, uma utilizando o OpenCV3 e Manual.\n",
        "\n",
        "#### Metodologia\n",
        "\n",
        "- A implementação deve se basear apenas em operações simples e as funções de morfologia matemática do OpenCV\n",
        "\n",
        "#### Passo-a-Passo (Sugerido):\n",
        "\n",
        "- Implementar a transformada de hit-or-miss\n",
        "- Criar uma lista de elementos estruturantes\n",
        "- Aplicar cada um sucessivamente\n",
        "- Repetir até a imagem não sofrer mais alterações\n",
        "\n",
        "#### Sugestão:\n",
        "\n",
        "- Apresentar o resultado final junto ao gradiente externo da imagem\n",
        "\n"
      ]
    },
    {
      "cell_type": "markdown",
      "metadata": {
        "id": "CjGtiZqs063Y"
      },
      "source": [
        "#### Importação de Bibliotecas"
      ]
    },
    {
      "cell_type": "code",
      "metadata": {
        "colab": {
          "base_uri": "https://localhost:8080/"
        },
        "id": "1we2h-DLbJJG",
        "outputId": "a4155869-10c8-4823-b440-927476a288b3"
      },
      "source": [
        "import numpy as np\n",
        "import pandas as pd\n",
        "import cv2 \n",
        "print(cv2.__version__)\n",
        "#Path Google Colab para CV2\n",
        "from google.colab.patches import cv2_imshow\n",
        "from google.colab import files\n",
        "import dlib\n",
        "from skimage import io\n",
        "from PIL import Image \n",
        "%matplotlib inline\n",
        "#A linha acima é necessária para mostrar gráficos Matplotlib dentro de um Notebook Jupyter\n",
        "from matplotlib import pyplot as plt\n",
        "#import matplotlib.pylab as plt\n",
        "import sys\n",
        "import ipywidgets as widgets\n",
        "from IPython.display import display\n",
        "import scipy\n",
        "from scipy import interpolate\n",
        "#import face_recognition"
      ],
      "execution_count": 1,
      "outputs": [
        {
          "output_type": "stream",
          "name": "stdout",
          "text": [
            "4.1.2\n"
          ]
        }
      ]
    },
    {
      "cell_type": "markdown",
      "metadata": {
        "id": "dVTm4gdAXXNw"
      },
      "source": [
        "#### Upload do arquivo"
      ]
    },
    {
      "cell_type": "code",
      "metadata": {
        "colab": {
          "resources": {
            "http://localhost:8080/nbextensions/google.colab/files.js": {
              "data": "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",
              "ok": true,
              "headers": [
                [
                  "content-type",
                  "application/javascript"
                ]
              ],
              "status": 200,
              "status_text": ""
            }
          },
          "base_uri": "https://localhost:8080/",
          "height": 90
        },
        "id": "TcdjfWQA02PK",
        "outputId": "119048f2-d38f-4761-dc4f-f5f05693e5bb"
      },
      "source": [
        "#Upload do arquivo de imagens que será utilizado no exemplo (lena.png)\n",
        "uploaded = files.upload()\n",
        "\n",
        "for fn in uploaded.keys():\n",
        "  print('User uploaded file \"{name}\" with length {length} bytes'.format(\n",
        "      name=fn, length=len(uploaded[fn])))"
      ],
      "execution_count": 15,
      "outputs": [
        {
          "output_type": "display_data",
          "data": {
            "text/html": [
              "\n",
              "     <input type=\"file\" id=\"files-3badc714-7787-4102-9991-b8d061766fca\" name=\"files[]\" multiple disabled\n",
              "        style=\"border:none\" />\n",
              "     <output id=\"result-3badc714-7787-4102-9991-b8d061766fca\">\n",
              "      Upload widget is only available when the cell has been executed in the\n",
              "      current browser session. Please rerun this cell to enable.\n",
              "      </output>\n",
              "      <script src=\"/nbextensions/google.colab/files.js\"></script> "
            ],
            "text/plain": [
              "<IPython.core.display.HTML object>"
            ]
          },
          "metadata": {}
        },
        {
          "output_type": "stream",
          "name": "stdout",
          "text": [
            "Saving neve.jpg to neve.jpg\n",
            "User uploaded file \"neve.jpg\" with length 18944 bytes\n"
          ]
        }
      ]
    },
    {
      "cell_type": "markdown",
      "metadata": {
        "id": "c6aF8KCiXaSp"
      },
      "source": [
        "#### Funções"
      ]
    },
    {
      "cell_type": "code",
      "metadata": {
        "id": "tBvwI_oNLbmu"
      },
      "source": [
        "#Funcao para Exibir Imagens com matplotlib e cv2\n",
        "def exibir_imgplt(tmpimg):\n",
        "  #Importar a Imagem\n",
        "  image = cv2.imread(tmpimg)\n",
        "  image = cv2.cvtColor(image, cv2.COLOR_BGR2RGB)\n",
        "  image = cv2.resize(image,None,fx=0.25,fy=0.25,interpolation=cv2.INTER_AREA)\n",
        "  #Mostra a imagem com matplotlib\n",
        "  plt.imshow(image)\n",
        "  plt.show()\n",
        "  return\n",
        "\n",
        "#Função para Exibir a Imagem Esqueletizada \n",
        "def exibir_imgesq(tmpimg):\n",
        "\n",
        "  #Importar a Imagem\n",
        "  image = cv2.imread(tmpimg,0)\n",
        "  image = cv2.cvtColor(image, cv2.COLOR_BGR2RGB)\n",
        "\n",
        "  #Transformar em GrayScale\n",
        "  img_gray = cv2.cvtColor(image, cv2.COLOR_RGB2GRAY)\n",
        "  #Binarizar \n",
        "  #Limiar a Imagem (otsu)\n",
        "  ret,img = cv2.threshold(img_gray,127,255,0)\n",
        "\n",
        "  #Etapa 1: Crie um esqueleto vazio\n",
        "  size = np.size(img)\n",
        "  skel = np.zeros(img.shape, np.uint8)\n",
        "\n",
        "  #Obtenha um kernel em forma de cruz\n",
        "  element = cv2.getStructuringElement(cv2.MORPH_CROSS, (3,3))\n",
        "\n",
        "  # Repetir os passos 2 até 4\n",
        "  while True:\n",
        "    #Etapa 2: Abra a imagem\n",
        "    open = cv2.morphologyEx(img, cv2.MORPH_OPEN, element)\n",
        "    #Etapa 3: subtrair aberto a partir da imagem original\n",
        "    temp = cv2.subtract(img, open)\n",
        "    #Etapa 4: corroer a imagem original e refinar o esqueleto\n",
        "    eroded = cv2.erode(img, element)\n",
        "    skel = cv2.bitwise_or(skel,temp)\n",
        "    img = eroded.copy()\n",
        "    #Etapa 5: se não houver mais pixels brancos, ou seja, a imagem foi completamente corroída, saia do loop\n",
        "    if cv2.countNonZero(img)==0:\n",
        "      break\n",
        "\n",
        "  #Mostra a imagem com matplotlib\n",
        "  plt.imshow(skel)\n",
        "  plt.show()\n",
        "\n",
        "  return"
      ],
      "execution_count": 13,
      "outputs": []
    },
    {
      "cell_type": "markdown",
      "metadata": {
        "id": "3nEhDRViXnjM"
      },
      "source": [
        "#### Exibir a Imagem"
      ]
    },
    {
      "cell_type": "code",
      "metadata": {
        "id": "0Pi1MDpKOhtQ",
        "colab": {
          "base_uri": "https://localhost:8080/",
          "height": 334,
          "referenced_widgets": [
            "b3035501bc2340fa8c57fac6378f3e6a",
            "5180d75fdd554845af5d65bcf3af3fa5",
            "dbddd78e04d14924aa6a52791de3ebd8",
            "c069510f11a548008f8d13376fa26b10",
            "41977762763b41d0b493ac11ed2eef71"
          ]
        },
        "outputId": "2f5888d8-a6c0-48e5-fb2b-8cb29bccccab"
      },
      "source": [
        "#Botão para exibir a imagem que foi realizado Upload\n",
        "button = widgets.Button(description=\"Exibir Img CV2PLT\")\n",
        "output = widgets.Output()\n",
        "\n",
        "def on_button_clicked_exibir_imagem(b):\n",
        "  with output:\n",
        "    img = cv2.cvtColor(cv2.imread(next(iter(uploaded))), cv2.COLOR_BGR2RGB)\n",
        "    print(\"Exibindo Imagens:\")\n",
        "    print(\"Resolução: \", img.shape[0: 2])\n",
        "    #print(img) # Imprimindo a imagem como NumpyArray\n",
        "    exibir_imgplt(next(iter(uploaded)))\n",
        "button.on_click(on_button_clicked_exibir_imagem)\n",
        "display(button, output)"
      ],
      "execution_count": 16,
      "outputs": [
        {
          "output_type": "display_data",
          "data": {
            "application/vnd.jupyter.widget-view+json": {
              "model_id": "b3035501bc2340fa8c57fac6378f3e6a",
              "version_minor": 0,
              "version_major": 2
            },
            "text/plain": [
              "Button(description='Exibir Img CV2PLT', style=ButtonStyle())"
            ]
          },
          "metadata": {}
        },
        {
          "output_type": "display_data",
          "data": {
            "application/vnd.jupyter.widget-view+json": {
              "model_id": "c069510f11a548008f8d13376fa26b10",
              "version_minor": 0,
              "version_major": 2
            },
            "text/plain": [
              "Output()"
            ]
          },
          "metadata": {}
        }
      ]
    },
    {
      "cell_type": "markdown",
      "metadata": {
        "id": "9O33sNV7qflC"
      },
      "source": [
        "#### Exibir a Imagem em Desenho a mão com OpenCV"
      ]
    },
    {
      "cell_type": "code",
      "metadata": {
        "colab": {
          "base_uri": "https://localhost:8080/",
          "height": 335,
          "referenced_widgets": [
            "4a8aca4c02604b58b79481de1ab7963c",
            "454b0fbb8e6d4f5abad8d19c63f30a13",
            "226fe99ad750465eb607e4f6c1c08505",
            "a10bcc76c644424fbcf1fcd340ef606e",
            "0f10cdd127a947a5aca126f22cea761c"
          ]
        },
        "id": "u7Y8HzrQ0KFF",
        "outputId": "be3a611c-51d3-41ad-c369-fea7dc5c2a87"
      },
      "source": [
        "#Botão para exibir a imagem Esqueletizada\n",
        "button1 = widgets.Button(description=\"Exibir Img Esqlt.\")\n",
        "output1 = widgets.Output()\n",
        "\n",
        "def on_button_clicked_exibir_imagemesqueletizada(b):\n",
        "  with output1:\n",
        "    img = cv2.cvtColor(cv2.imread(next(iter(uploaded))), cv2.COLOR_BGR2RGB)\n",
        "    print(\"Exibir Img Esqlt.:\")\n",
        "    print(\"Resolução: \", img.shape[0: 2])\n",
        "    #print(img) # Imprimindo a imagem como NumpyArray\n",
        "    exibir_imgesq(next(iter(uploaded)))\n",
        "button1.on_click(on_button_clicked_exibir_imagemesqueletizada)\n",
        "display(button1, output1)"
      ],
      "execution_count": 17,
      "outputs": [
        {
          "output_type": "display_data",
          "data": {
            "application/vnd.jupyter.widget-view+json": {
              "model_id": "4a8aca4c02604b58b79481de1ab7963c",
              "version_minor": 0,
              "version_major": 2
            },
            "text/plain": [
              "Button(description='Exibir Img Esqlt.', style=ButtonStyle())"
            ]
          },
          "metadata": {}
        },
        {
          "output_type": "display_data",
          "data": {
            "application/vnd.jupyter.widget-view+json": {
              "model_id": "a10bcc76c644424fbcf1fcd340ef606e",
              "version_minor": 0,
              "version_major": 2
            },
            "text/plain": [
              "Output()"
            ]
          },
          "metadata": {}
        }
      ]
    }
  ]
}